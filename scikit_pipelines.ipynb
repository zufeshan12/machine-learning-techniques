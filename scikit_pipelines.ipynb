{
 "cells": [
  {
   "cell_type": "code",
   "execution_count": null,
   "id": "bc2492ec-0c15-40d5-a3b5-59e66f10e92e",
   "metadata": {},
   "outputs": [],
   "source": [
    "# https://www.youtube.com/watch?v=xOccYkgRV4Q&ab_channel=CampusX"
   ]
  },
  {
   "cell_type": "code",
   "execution_count": 132,
   "id": "e9479b5f-ea1c-4dc2-8d7e-4c2c0dbcbec3",
   "metadata": {},
   "outputs": [],
   "source": [
    "import numpy as np\n",
    "import pandas as pd\n",
    "from sklearn.preprocessing import MinMaxScaler, OneHotEncoder\n",
    "from sklearn.model_selection import train_test_split, cross_val_score,GridSearchCV\n",
    "from sklearn.compose import ColumnTransformer\n",
    "from sklearn.impute import SimpleImputer\n",
    "from sklearn.pipeline import Pipeline, make_pipeline\n",
    "from sklearn.feature_selection import SelectKBest,chi2\n",
    "from sklearn.tree import DecisionTreeClassifier\n",
    "from sklearn.metrics import accuracy_score"
   ]
  },
  {
   "cell_type": "markdown",
   "id": "7ee5e7e6-7977-4bd3-9dc2-91b20e5b6b23",
   "metadata": {},
   "source": [
    "###\n",
    "1. simple imputer null values of age(fill it with mean) , embarked (fill with most frequent value)\n",
    "2. OHE on sex and embarked\n",
    "3. scale numeric features\n",
    "4. select K best features  - feature selection\n",
    "5. feed to decision tree\n",
    "6. make pipeline of above transformations"
   ]
  },
  {
   "cell_type": "code",
   "execution_count": 82,
   "id": "313eef37-7310-4cfd-b2c9-5f1484a520b2",
   "metadata": {},
   "outputs": [],
   "source": [
    "x = pd.read_csv('titanic.csv')\n",
    "x.drop(columns = ['PassengerId','Name','Ticket','Cabin'],inplace=True)"
   ]
  },
  {
   "cell_type": "code",
   "execution_count": 83,
   "id": "e58d64de-300c-4efd-82d5-b8b990007290",
   "metadata": {},
   "outputs": [
    {
     "data": {
      "text/html": [
       "<div>\n",
       "<style scoped>\n",
       "    .dataframe tbody tr th:only-of-type {\n",
       "        vertical-align: middle;\n",
       "    }\n",
       "\n",
       "    .dataframe tbody tr th {\n",
       "        vertical-align: top;\n",
       "    }\n",
       "\n",
       "    .dataframe thead th {\n",
       "        text-align: right;\n",
       "    }\n",
       "</style>\n",
       "<table border=\"1\" class=\"dataframe\">\n",
       "  <thead>\n",
       "    <tr style=\"text-align: right;\">\n",
       "      <th></th>\n",
       "      <th>Survived</th>\n",
       "      <th>Pclass</th>\n",
       "      <th>Sex</th>\n",
       "      <th>Age</th>\n",
       "      <th>SibSp</th>\n",
       "      <th>Parch</th>\n",
       "      <th>Fare</th>\n",
       "      <th>Embarked</th>\n",
       "    </tr>\n",
       "  </thead>\n",
       "  <tbody>\n",
       "    <tr>\n",
       "      <th>398</th>\n",
       "      <td>0</td>\n",
       "      <td>3</td>\n",
       "      <td>male</td>\n",
       "      <td>30.0</td>\n",
       "      <td>1</td>\n",
       "      <td>0</td>\n",
       "      <td>16.1000</td>\n",
       "      <td>S</td>\n",
       "    </tr>\n",
       "    <tr>\n",
       "      <th>887</th>\n",
       "      <td>0</td>\n",
       "      <td>2</td>\n",
       "      <td>male</td>\n",
       "      <td>NaN</td>\n",
       "      <td>0</td>\n",
       "      <td>0</td>\n",
       "      <td>0.0000</td>\n",
       "      <td>S</td>\n",
       "    </tr>\n",
       "    <tr>\n",
       "      <th>747</th>\n",
       "      <td>0</td>\n",
       "      <td>3</td>\n",
       "      <td>male</td>\n",
       "      <td>16.0</td>\n",
       "      <td>0</td>\n",
       "      <td>0</td>\n",
       "      <td>7.7750</td>\n",
       "      <td>S</td>\n",
       "    </tr>\n",
       "    <tr>\n",
       "      <th>72</th>\n",
       "      <td>1</td>\n",
       "      <td>1</td>\n",
       "      <td>female</td>\n",
       "      <td>NaN</td>\n",
       "      <td>1</td>\n",
       "      <td>0</td>\n",
       "      <td>82.1708</td>\n",
       "      <td>C</td>\n",
       "    </tr>\n",
       "    <tr>\n",
       "      <th>152</th>\n",
       "      <td>0</td>\n",
       "      <td>1</td>\n",
       "      <td>male</td>\n",
       "      <td>NaN</td>\n",
       "      <td>0</td>\n",
       "      <td>0</td>\n",
       "      <td>52.0000</td>\n",
       "      <td>S</td>\n",
       "    </tr>\n",
       "  </tbody>\n",
       "</table>\n",
       "</div>"
      ],
      "text/plain": [
       "     Survived  Pclass     Sex   Age  SibSp  Parch     Fare Embarked\n",
       "398         0       3    male  30.0      1      0  16.1000        S\n",
       "887         0       2    male   NaN      0      0   0.0000        S\n",
       "747         0       3    male  16.0      0      0   7.7750        S\n",
       "72          1       1  female   NaN      1      0  82.1708        C\n",
       "152         0       1    male   NaN      0      0  52.0000        S"
      ]
     },
     "execution_count": 83,
     "metadata": {},
     "output_type": "execute_result"
    }
   ],
   "source": [
    "x.sample(5)"
   ]
  },
  {
   "cell_type": "code",
   "execution_count": 84,
   "id": "6eb0577f-6726-4bc6-ba8a-c2ce54d6fb92",
   "metadata": {},
   "outputs": [],
   "source": [
    "x_train,x_test,y_train,y_test = train_test_split(x.drop(columns=['Survived']),x['Survived'],test_size=0.1,random_state=42)"
   ]
  },
  {
   "cell_type": "code",
   "execution_count": 85,
   "id": "c8d13abe-c115-48cb-8fa2-968f68655db5",
   "metadata": {},
   "outputs": [
    {
     "data": {
      "text/plain": [
       "((801, 7), (90, 7), (801,))"
      ]
     },
     "execution_count": 85,
     "metadata": {},
     "output_type": "execute_result"
    }
   ],
   "source": [
    "x_train.shape,x_test.shape,y_train.shape"
   ]
  },
  {
   "cell_type": "code",
   "execution_count": 86,
   "id": "7cbd8dfb-68d6-4591-bf38-79bea8c52aa7",
   "metadata": {},
   "outputs": [
    {
     "data": {
      "text/html": [
       "<div>\n",
       "<style scoped>\n",
       "    .dataframe tbody tr th:only-of-type {\n",
       "        vertical-align: middle;\n",
       "    }\n",
       "\n",
       "    .dataframe tbody tr th {\n",
       "        vertical-align: top;\n",
       "    }\n",
       "\n",
       "    .dataframe thead th {\n",
       "        text-align: right;\n",
       "    }\n",
       "</style>\n",
       "<table border=\"1\" class=\"dataframe\">\n",
       "  <thead>\n",
       "    <tr style=\"text-align: right;\">\n",
       "      <th></th>\n",
       "      <th>Pclass</th>\n",
       "      <th>Sex</th>\n",
       "      <th>Age</th>\n",
       "      <th>SibSp</th>\n",
       "      <th>Parch</th>\n",
       "      <th>Fare</th>\n",
       "      <th>Embarked</th>\n",
       "    </tr>\n",
       "  </thead>\n",
       "  <tbody>\n",
       "    <tr>\n",
       "      <th>295</th>\n",
       "      <td>2</td>\n",
       "      <td>male</td>\n",
       "      <td>35.0</td>\n",
       "      <td>0</td>\n",
       "      <td>0</td>\n",
       "      <td>26.0000</td>\n",
       "      <td>S</td>\n",
       "    </tr>\n",
       "    <tr>\n",
       "      <th>866</th>\n",
       "      <td>3</td>\n",
       "      <td>male</td>\n",
       "      <td>NaN</td>\n",
       "      <td>0</td>\n",
       "      <td>0</td>\n",
       "      <td>6.8583</td>\n",
       "      <td>Q</td>\n",
       "    </tr>\n",
       "    <tr>\n",
       "      <th>49</th>\n",
       "      <td>1</td>\n",
       "      <td>female</td>\n",
       "      <td>17.0</td>\n",
       "      <td>1</td>\n",
       "      <td>0</td>\n",
       "      <td>108.9000</td>\n",
       "      <td>C</td>\n",
       "    </tr>\n",
       "    <tr>\n",
       "      <th>559</th>\n",
       "      <td>3</td>\n",
       "      <td>female</td>\n",
       "      <td>21.0</td>\n",
       "      <td>1</td>\n",
       "      <td>0</td>\n",
       "      <td>9.8250</td>\n",
       "      <td>S</td>\n",
       "    </tr>\n",
       "    <tr>\n",
       "      <th>338</th>\n",
       "      <td>3</td>\n",
       "      <td>male</td>\n",
       "      <td>36.0</td>\n",
       "      <td>1</td>\n",
       "      <td>1</td>\n",
       "      <td>24.1500</td>\n",
       "      <td>S</td>\n",
       "    </tr>\n",
       "  </tbody>\n",
       "</table>\n",
       "</div>"
      ],
      "text/plain": [
       "     Pclass     Sex   Age  SibSp  Parch      Fare Embarked\n",
       "295       2    male  35.0      0      0   26.0000        S\n",
       "866       3    male   NaN      0      0    6.8583        Q\n",
       "49        1  female  17.0      1      0  108.9000        C\n",
       "559       3  female  21.0      1      0    9.8250        S\n",
       "338       3    male  36.0      1      1   24.1500        S"
      ]
     },
     "execution_count": 86,
     "metadata": {},
     "output_type": "execute_result"
    }
   ],
   "source": [
    "x_train.sample(5)"
   ]
  },
  {
   "cell_type": "code",
   "execution_count": 87,
   "id": "d8db4989-dd96-4695-8979-ceb3e8e00669",
   "metadata": {},
   "outputs": [],
   "source": [
    "# Simple imputation on age and embarked\n",
    "tf1 = ColumnTransformer(transformers=[('impute_age',SimpleImputer(strategy='mean'),[2]),\n",
    "                                        ('impute_emb',SimpleImputer(strategy='most_frequent'),[6])],remainder='passthrough')"
   ]
  },
  {
   "cell_type": "code",
   "execution_count": 88,
   "id": "6044f4ad-7c73-4ca4-bca2-3ae6f6c41e62",
   "metadata": {},
   "outputs": [],
   "source": [
    "#OHE on sex and embarked\n",
    "tf2 = ColumnTransformer([('ohe_sex_embarked',OneHotEncoder(sparse=False,handle_unknown='ignore'),[1,6])]\n",
    "                                       ,remainder='passthrough')"
   ]
  },
  {
   "cell_type": "code",
   "execution_count": 94,
   "id": "82f161bb-3190-4ef2-a9c2-62945ed504f1",
   "metadata": {},
   "outputs": [],
   "source": [
    "#scaling of numeric columns\n",
    "tf3 = ColumnTransformer(transformers=[('scalex',MinMaxScaler(),slice(0,10))]\n",
    "                        )"
   ]
  },
  {
   "cell_type": "code",
   "execution_count": 90,
   "id": "6c364e9e-bb09-4e81-a2be-1100b2b1ffe3",
   "metadata": {},
   "outputs": [],
   "source": [
    "#select k best features\n",
    "tf4 = SelectKBest(score_func=chi2,k=8)"
   ]
  },
  {
   "cell_type": "code",
   "execution_count": 91,
   "id": "0381fa00-a4fd-4cdb-aea5-048db0b0dde6",
   "metadata": {},
   "outputs": [],
   "source": [
    "# feed to decision tree\n",
    "tf5 = DecisionTreeClassifier()"
   ]
  },
  {
   "cell_type": "markdown",
   "id": "0bf3f16c-b0ad-4130-add0-b9d60b3e11a4",
   "metadata": {},
   "source": [
    "### Create Pipeline"
   ]
  },
  {
   "cell_type": "code",
   "execution_count": 95,
   "id": "497596c9-a94f-481f-8168-2ffa4b09a15b",
   "metadata": {},
   "outputs": [],
   "source": [
    "pipe = Pipeline([('tf1',tf1),\n",
    "                 ('tf2',tf2),\n",
    "                 ('tf3',tf3),\n",
    "                 ('tf4',tf4),\n",
    "                 ('tf5',tf5)])"
   ]
  },
  {
   "cell_type": "code",
   "execution_count": 96,
   "id": "80103ba3-f289-455d-8d70-c45cbbcf949b",
   "metadata": {},
   "outputs": [
    {
     "data": {
      "text/html": [
       "<style>#sk-ed9906c8-17e4-417e-a12e-b4899b955e24 {color: black;background-color: white;}#sk-ed9906c8-17e4-417e-a12e-b4899b955e24 pre{padding: 0;}#sk-ed9906c8-17e4-417e-a12e-b4899b955e24 div.sk-toggleable {background-color: white;}#sk-ed9906c8-17e4-417e-a12e-b4899b955e24 label.sk-toggleable__label {cursor: pointer;display: block;width: 100%;margin-bottom: 0;padding: 0.3em;box-sizing: border-box;text-align: center;}#sk-ed9906c8-17e4-417e-a12e-b4899b955e24 label.sk-toggleable__label-arrow:before {content: \"▸\";float: left;margin-right: 0.25em;color: #696969;}#sk-ed9906c8-17e4-417e-a12e-b4899b955e24 label.sk-toggleable__label-arrow:hover:before {color: black;}#sk-ed9906c8-17e4-417e-a12e-b4899b955e24 div.sk-estimator:hover label.sk-toggleable__label-arrow:before {color: black;}#sk-ed9906c8-17e4-417e-a12e-b4899b955e24 div.sk-toggleable__content {max-height: 0;max-width: 0;overflow: hidden;text-align: left;background-color: #f0f8ff;}#sk-ed9906c8-17e4-417e-a12e-b4899b955e24 div.sk-toggleable__content pre {margin: 0.2em;color: black;border-radius: 0.25em;background-color: #f0f8ff;}#sk-ed9906c8-17e4-417e-a12e-b4899b955e24 input.sk-toggleable__control:checked~div.sk-toggleable__content {max-height: 200px;max-width: 100%;overflow: auto;}#sk-ed9906c8-17e4-417e-a12e-b4899b955e24 input.sk-toggleable__control:checked~label.sk-toggleable__label-arrow:before {content: \"▾\";}#sk-ed9906c8-17e4-417e-a12e-b4899b955e24 div.sk-estimator input.sk-toggleable__control:checked~label.sk-toggleable__label {background-color: #d4ebff;}#sk-ed9906c8-17e4-417e-a12e-b4899b955e24 div.sk-label input.sk-toggleable__control:checked~label.sk-toggleable__label {background-color: #d4ebff;}#sk-ed9906c8-17e4-417e-a12e-b4899b955e24 input.sk-hidden--visually {border: 0;clip: rect(1px 1px 1px 1px);clip: rect(1px, 1px, 1px, 1px);height: 1px;margin: -1px;overflow: hidden;padding: 0;position: absolute;width: 1px;}#sk-ed9906c8-17e4-417e-a12e-b4899b955e24 div.sk-estimator {font-family: monospace;background-color: #f0f8ff;border: 1px dotted black;border-radius: 0.25em;box-sizing: border-box;margin-bottom: 0.5em;}#sk-ed9906c8-17e4-417e-a12e-b4899b955e24 div.sk-estimator:hover {background-color: #d4ebff;}#sk-ed9906c8-17e4-417e-a12e-b4899b955e24 div.sk-parallel-item::after {content: \"\";width: 100%;border-bottom: 1px solid gray;flex-grow: 1;}#sk-ed9906c8-17e4-417e-a12e-b4899b955e24 div.sk-label:hover label.sk-toggleable__label {background-color: #d4ebff;}#sk-ed9906c8-17e4-417e-a12e-b4899b955e24 div.sk-serial::before {content: \"\";position: absolute;border-left: 1px solid gray;box-sizing: border-box;top: 2em;bottom: 0;left: 50%;}#sk-ed9906c8-17e4-417e-a12e-b4899b955e24 div.sk-serial {display: flex;flex-direction: column;align-items: center;background-color: white;padding-right: 0.2em;padding-left: 0.2em;}#sk-ed9906c8-17e4-417e-a12e-b4899b955e24 div.sk-item {z-index: 1;}#sk-ed9906c8-17e4-417e-a12e-b4899b955e24 div.sk-parallel {display: flex;align-items: stretch;justify-content: center;background-color: white;}#sk-ed9906c8-17e4-417e-a12e-b4899b955e24 div.sk-parallel::before {content: \"\";position: absolute;border-left: 1px solid gray;box-sizing: border-box;top: 2em;bottom: 0;left: 50%;}#sk-ed9906c8-17e4-417e-a12e-b4899b955e24 div.sk-parallel-item {display: flex;flex-direction: column;position: relative;background-color: white;}#sk-ed9906c8-17e4-417e-a12e-b4899b955e24 div.sk-parallel-item:first-child::after {align-self: flex-end;width: 50%;}#sk-ed9906c8-17e4-417e-a12e-b4899b955e24 div.sk-parallel-item:last-child::after {align-self: flex-start;width: 50%;}#sk-ed9906c8-17e4-417e-a12e-b4899b955e24 div.sk-parallel-item:only-child::after {width: 0;}#sk-ed9906c8-17e4-417e-a12e-b4899b955e24 div.sk-dashed-wrapped {border: 1px dashed gray;margin: 0 0.4em 0.5em 0.4em;box-sizing: border-box;padding-bottom: 0.4em;background-color: white;position: relative;}#sk-ed9906c8-17e4-417e-a12e-b4899b955e24 div.sk-label label {font-family: monospace;font-weight: bold;background-color: white;display: inline-block;line-height: 1.2em;}#sk-ed9906c8-17e4-417e-a12e-b4899b955e24 div.sk-label-container {position: relative;z-index: 2;text-align: center;}#sk-ed9906c8-17e4-417e-a12e-b4899b955e24 div.sk-container {/* jupyter's `normalize.less` sets `[hidden] { display: none; }` but bootstrap.min.css set `[hidden] { display: none !important; }` so we also need the `!important` here to be able to override the default hidden behavior on the sphinx rendered scikit-learn.org. See: https://github.com/scikit-learn/scikit-learn/issues/21755 */display: inline-block !important;position: relative;}#sk-ed9906c8-17e4-417e-a12e-b4899b955e24 div.sk-text-repr-fallback {display: none;}</style><div id=\"sk-ed9906c8-17e4-417e-a12e-b4899b955e24\" class=\"sk-top-container\"><div class=\"sk-text-repr-fallback\"><pre>Pipeline(steps=[(&#x27;tf1&#x27;,\n",
       "                 ColumnTransformer(remainder=&#x27;passthrough&#x27;,\n",
       "                                   transformers=[(&#x27;impute_age&#x27;, SimpleImputer(),\n",
       "                                                  [2]),\n",
       "                                                 (&#x27;impute_emb&#x27;,\n",
       "                                                  SimpleImputer(strategy=&#x27;most_frequent&#x27;),\n",
       "                                                  [6])])),\n",
       "                (&#x27;tf2&#x27;,\n",
       "                 ColumnTransformer(remainder=&#x27;passthrough&#x27;,\n",
       "                                   transformers=[(&#x27;ohe_sex_embarked&#x27;,\n",
       "                                                  OneHotEncoder(handle_unknown=&#x27;ignore&#x27;,\n",
       "                                                                sparse=False),\n",
       "                                                  [1, 6])])),\n",
       "                (&#x27;tf3&#x27;,\n",
       "                 ColumnTransformer(transformers=[(&#x27;scalex&#x27;, MinMaxScaler(),\n",
       "                                                  slice(0, 10, None))])),\n",
       "                (&#x27;tf4&#x27;,\n",
       "                 SelectKBest(k=8,\n",
       "                             score_func=&lt;function chi2 at 0x000002117B214790&gt;)),\n",
       "                (&#x27;tf5&#x27;, DecisionTreeClassifier())])</pre><b>Please rerun this cell to show the HTML repr or trust the notebook.</b></div><div class=\"sk-container\" hidden><div class=\"sk-item sk-dashed-wrapped\"><div class=\"sk-label-container\"><div class=\"sk-label sk-toggleable\"><input class=\"sk-toggleable__control sk-hidden--visually\" id=\"65c53169-b0fa-4b4c-bb13-85ad3ce042e1\" type=\"checkbox\" ><label for=\"65c53169-b0fa-4b4c-bb13-85ad3ce042e1\" class=\"sk-toggleable__label sk-toggleable__label-arrow\">Pipeline</label><div class=\"sk-toggleable__content\"><pre>Pipeline(steps=[(&#x27;tf1&#x27;,\n",
       "                 ColumnTransformer(remainder=&#x27;passthrough&#x27;,\n",
       "                                   transformers=[(&#x27;impute_age&#x27;, SimpleImputer(),\n",
       "                                                  [2]),\n",
       "                                                 (&#x27;impute_emb&#x27;,\n",
       "                                                  SimpleImputer(strategy=&#x27;most_frequent&#x27;),\n",
       "                                                  [6])])),\n",
       "                (&#x27;tf2&#x27;,\n",
       "                 ColumnTransformer(remainder=&#x27;passthrough&#x27;,\n",
       "                                   transformers=[(&#x27;ohe_sex_embarked&#x27;,\n",
       "                                                  OneHotEncoder(handle_unknown=&#x27;ignore&#x27;,\n",
       "                                                                sparse=False),\n",
       "                                                  [1, 6])])),\n",
       "                (&#x27;tf3&#x27;,\n",
       "                 ColumnTransformer(transformers=[(&#x27;scalex&#x27;, MinMaxScaler(),\n",
       "                                                  slice(0, 10, None))])),\n",
       "                (&#x27;tf4&#x27;,\n",
       "                 SelectKBest(k=8,\n",
       "                             score_func=&lt;function chi2 at 0x000002117B214790&gt;)),\n",
       "                (&#x27;tf5&#x27;, DecisionTreeClassifier())])</pre></div></div></div><div class=\"sk-serial\"><div class=\"sk-item sk-dashed-wrapped\"><div class=\"sk-label-container\"><div class=\"sk-label sk-toggleable\"><input class=\"sk-toggleable__control sk-hidden--visually\" id=\"0ba0faab-167e-4e53-bedd-2dca08c5c148\" type=\"checkbox\" ><label for=\"0ba0faab-167e-4e53-bedd-2dca08c5c148\" class=\"sk-toggleable__label sk-toggleable__label-arrow\">tf1: ColumnTransformer</label><div class=\"sk-toggleable__content\"><pre>ColumnTransformer(remainder=&#x27;passthrough&#x27;,\n",
       "                  transformers=[(&#x27;impute_age&#x27;, SimpleImputer(), [2]),\n",
       "                                (&#x27;impute_emb&#x27;,\n",
       "                                 SimpleImputer(strategy=&#x27;most_frequent&#x27;),\n",
       "                                 [6])])</pre></div></div></div><div class=\"sk-parallel\"><div class=\"sk-parallel-item\"><div class=\"sk-item\"><div class=\"sk-label-container\"><div class=\"sk-label sk-toggleable\"><input class=\"sk-toggleable__control sk-hidden--visually\" id=\"cb12bfb5-2311-4c28-9438-0ede2cd1fc9d\" type=\"checkbox\" ><label for=\"cb12bfb5-2311-4c28-9438-0ede2cd1fc9d\" class=\"sk-toggleable__label sk-toggleable__label-arrow\">impute_age</label><div class=\"sk-toggleable__content\"><pre>[2]</pre></div></div></div><div class=\"sk-serial\"><div class=\"sk-item\"><div class=\"sk-estimator sk-toggleable\"><input class=\"sk-toggleable__control sk-hidden--visually\" id=\"e0b800d0-5243-4032-a911-18f52a80937b\" type=\"checkbox\" ><label for=\"e0b800d0-5243-4032-a911-18f52a80937b\" class=\"sk-toggleable__label sk-toggleable__label-arrow\">SimpleImputer</label><div class=\"sk-toggleable__content\"><pre>SimpleImputer()</pre></div></div></div></div></div></div><div class=\"sk-parallel-item\"><div class=\"sk-item\"><div class=\"sk-label-container\"><div class=\"sk-label sk-toggleable\"><input class=\"sk-toggleable__control sk-hidden--visually\" id=\"42a7cfd4-19e8-43e5-94a6-035370030035\" type=\"checkbox\" ><label for=\"42a7cfd4-19e8-43e5-94a6-035370030035\" class=\"sk-toggleable__label sk-toggleable__label-arrow\">impute_emb</label><div class=\"sk-toggleable__content\"><pre>[6]</pre></div></div></div><div class=\"sk-serial\"><div class=\"sk-item\"><div class=\"sk-estimator sk-toggleable\"><input class=\"sk-toggleable__control sk-hidden--visually\" id=\"6ea1a1dd-b74b-4444-9a92-723cb978ae27\" type=\"checkbox\" ><label for=\"6ea1a1dd-b74b-4444-9a92-723cb978ae27\" class=\"sk-toggleable__label sk-toggleable__label-arrow\">SimpleImputer</label><div class=\"sk-toggleable__content\"><pre>SimpleImputer(strategy=&#x27;most_frequent&#x27;)</pre></div></div></div></div></div></div><div class=\"sk-parallel-item\"><div class=\"sk-item\"><div class=\"sk-label-container\"><div class=\"sk-label sk-toggleable\"><input class=\"sk-toggleable__control sk-hidden--visually\" id=\"41b30cf6-7691-4c58-bdfe-5fa8a499f8e7\" type=\"checkbox\" ><label for=\"41b30cf6-7691-4c58-bdfe-5fa8a499f8e7\" class=\"sk-toggleable__label sk-toggleable__label-arrow\">remainder</label><div class=\"sk-toggleable__content\"><pre>[&#x27;Pclass&#x27;, &#x27;Sex&#x27;, &#x27;SibSp&#x27;, &#x27;Parch&#x27;, &#x27;Fare&#x27;]</pre></div></div></div><div class=\"sk-serial\"><div class=\"sk-item\"><div class=\"sk-estimator sk-toggleable\"><input class=\"sk-toggleable__control sk-hidden--visually\" id=\"372bd86c-0802-4d9b-8bb5-80c5d4c247c6\" type=\"checkbox\" ><label for=\"372bd86c-0802-4d9b-8bb5-80c5d4c247c6\" class=\"sk-toggleable__label sk-toggleable__label-arrow\">passthrough</label><div class=\"sk-toggleable__content\"><pre>passthrough</pre></div></div></div></div></div></div></div></div><div class=\"sk-item sk-dashed-wrapped\"><div class=\"sk-label-container\"><div class=\"sk-label sk-toggleable\"><input class=\"sk-toggleable__control sk-hidden--visually\" id=\"c9e56fd6-c082-4302-b22a-4baf60877fa3\" type=\"checkbox\" ><label for=\"c9e56fd6-c082-4302-b22a-4baf60877fa3\" class=\"sk-toggleable__label sk-toggleable__label-arrow\">tf2: ColumnTransformer</label><div class=\"sk-toggleable__content\"><pre>ColumnTransformer(remainder=&#x27;passthrough&#x27;,\n",
       "                  transformers=[(&#x27;ohe_sex_embarked&#x27;,\n",
       "                                 OneHotEncoder(handle_unknown=&#x27;ignore&#x27;,\n",
       "                                               sparse=False),\n",
       "                                 [1, 6])])</pre></div></div></div><div class=\"sk-parallel\"><div class=\"sk-parallel-item\"><div class=\"sk-item\"><div class=\"sk-label-container\"><div class=\"sk-label sk-toggleable\"><input class=\"sk-toggleable__control sk-hidden--visually\" id=\"935e9888-52ff-4ac3-a6b7-b4d532c069be\" type=\"checkbox\" ><label for=\"935e9888-52ff-4ac3-a6b7-b4d532c069be\" class=\"sk-toggleable__label sk-toggleable__label-arrow\">ohe_sex_embarked</label><div class=\"sk-toggleable__content\"><pre>[1, 6]</pre></div></div></div><div class=\"sk-serial\"><div class=\"sk-item\"><div class=\"sk-estimator sk-toggleable\"><input class=\"sk-toggleable__control sk-hidden--visually\" id=\"624a3c6e-1e3d-4653-8b5f-a437a75e14a9\" type=\"checkbox\" ><label for=\"624a3c6e-1e3d-4653-8b5f-a437a75e14a9\" class=\"sk-toggleable__label sk-toggleable__label-arrow\">OneHotEncoder</label><div class=\"sk-toggleable__content\"><pre>OneHotEncoder(handle_unknown=&#x27;ignore&#x27;, sparse=False)</pre></div></div></div></div></div></div><div class=\"sk-parallel-item\"><div class=\"sk-item\"><div class=\"sk-label-container\"><div class=\"sk-label sk-toggleable\"><input class=\"sk-toggleable__control sk-hidden--visually\" id=\"d687a8e6-85cb-44b0-b792-ff8237848250\" type=\"checkbox\" ><label for=\"d687a8e6-85cb-44b0-b792-ff8237848250\" class=\"sk-toggleable__label sk-toggleable__label-arrow\">remainder</label><div class=\"sk-toggleable__content\"><pre>[0, 2, 3, 4, 5]</pre></div></div></div><div class=\"sk-serial\"><div class=\"sk-item\"><div class=\"sk-estimator sk-toggleable\"><input class=\"sk-toggleable__control sk-hidden--visually\" id=\"81f57f8b-979a-4395-b0f1-4c8a1a437d54\" type=\"checkbox\" ><label for=\"81f57f8b-979a-4395-b0f1-4c8a1a437d54\" class=\"sk-toggleable__label sk-toggleable__label-arrow\">passthrough</label><div class=\"sk-toggleable__content\"><pre>passthrough</pre></div></div></div></div></div></div></div></div><div class=\"sk-item sk-dashed-wrapped\"><div class=\"sk-label-container\"><div class=\"sk-label sk-toggleable\"><input class=\"sk-toggleable__control sk-hidden--visually\" id=\"c225c054-b1ba-4073-a3f9-3d723ae98cf3\" type=\"checkbox\" ><label for=\"c225c054-b1ba-4073-a3f9-3d723ae98cf3\" class=\"sk-toggleable__label sk-toggleable__label-arrow\">tf3: ColumnTransformer</label><div class=\"sk-toggleable__content\"><pre>ColumnTransformer(transformers=[(&#x27;scalex&#x27;, MinMaxScaler(), slice(0, 10, None))])</pre></div></div></div><div class=\"sk-parallel\"><div class=\"sk-parallel-item\"><div class=\"sk-item\"><div class=\"sk-label-container\"><div class=\"sk-label sk-toggleable\"><input class=\"sk-toggleable__control sk-hidden--visually\" id=\"a6ee60ac-1124-48a2-b431-50aeccc98e75\" type=\"checkbox\" ><label for=\"a6ee60ac-1124-48a2-b431-50aeccc98e75\" class=\"sk-toggleable__label sk-toggleable__label-arrow\">scalex</label><div class=\"sk-toggleable__content\"><pre>slice(0, 10, None)</pre></div></div></div><div class=\"sk-serial\"><div class=\"sk-item\"><div class=\"sk-estimator sk-toggleable\"><input class=\"sk-toggleable__control sk-hidden--visually\" id=\"3680bcbf-6bb9-4168-ae98-08ab5b93ca0f\" type=\"checkbox\" ><label for=\"3680bcbf-6bb9-4168-ae98-08ab5b93ca0f\" class=\"sk-toggleable__label sk-toggleable__label-arrow\">MinMaxScaler</label><div class=\"sk-toggleable__content\"><pre>MinMaxScaler()</pre></div></div></div></div></div></div></div></div><div class=\"sk-item\"><div class=\"sk-estimator sk-toggleable\"><input class=\"sk-toggleable__control sk-hidden--visually\" id=\"b9d63cb7-2703-481c-8d66-6aaf2326dace\" type=\"checkbox\" ><label for=\"b9d63cb7-2703-481c-8d66-6aaf2326dace\" class=\"sk-toggleable__label sk-toggleable__label-arrow\">SelectKBest</label><div class=\"sk-toggleable__content\"><pre>SelectKBest(k=8, score_func=&lt;function chi2 at 0x000002117B214790&gt;)</pre></div></div></div><div class=\"sk-item\"><div class=\"sk-estimator sk-toggleable\"><input class=\"sk-toggleable__control sk-hidden--visually\" id=\"4a5b3e7e-4716-4b4d-8e0d-700b44304f13\" type=\"checkbox\" ><label for=\"4a5b3e7e-4716-4b4d-8e0d-700b44304f13\" class=\"sk-toggleable__label sk-toggleable__label-arrow\">DecisionTreeClassifier</label><div class=\"sk-toggleable__content\"><pre>DecisionTreeClassifier()</pre></div></div></div></div></div></div></div>"
      ],
      "text/plain": [
       "Pipeline(steps=[('tf1',\n",
       "                 ColumnTransformer(remainder='passthrough',\n",
       "                                   transformers=[('impute_age', SimpleImputer(),\n",
       "                                                  [2]),\n",
       "                                                 ('impute_emb',\n",
       "                                                  SimpleImputer(strategy='most_frequent'),\n",
       "                                                  [6])])),\n",
       "                ('tf2',\n",
       "                 ColumnTransformer(remainder='passthrough',\n",
       "                                   transformers=[('ohe_sex_embarked',\n",
       "                                                  OneHotEncoder(handle_unknown='ignore',\n",
       "                                                                sparse=False),\n",
       "                                                  [1, 6])])),\n",
       "                ('tf3',\n",
       "                 ColumnTransformer(transformers=[('scalex', MinMaxScaler(),\n",
       "                                                  slice(0, 10, None))])),\n",
       "                ('tf4',\n",
       "                 SelectKBest(k=8,\n",
       "                             score_func=<function chi2 at 0x000002117B214790>)),\n",
       "                ('tf5', DecisionTreeClassifier())])"
      ]
     },
     "execution_count": 96,
     "metadata": {},
     "output_type": "execute_result"
    }
   ],
   "source": [
    "pipe.fit(x_train,y_train)"
   ]
  },
  {
   "cell_type": "code",
   "execution_count": 36,
   "id": "a5acd4f2-d590-489f-a6ab-f84ceef4c692",
   "metadata": {},
   "outputs": [],
   "source": [
    "from sklearn import set_config\n",
    "set_config(display='diagram')"
   ]
  },
  {
   "cell_type": "code",
   "execution_count": 97,
   "id": "e06eaa2e-87d6-441f-905a-166d5d41a312",
   "metadata": {},
   "outputs": [],
   "source": [
    "y_pred = pipe.predict(x_test)"
   ]
  },
  {
   "cell_type": "code",
   "execution_count": 99,
   "id": "09a972ec-bb04-404c-b4a7-ad28a06bde8b",
   "metadata": {},
   "outputs": [
    {
     "data": {
      "text/plain": [
       "0.5666666666666667"
      ]
     },
     "execution_count": 99,
     "metadata": {},
     "output_type": "execute_result"
    }
   ],
   "source": [
    "accuracy_score(y_test,y_pred)"
   ]
  },
  {
   "cell_type": "markdown",
   "id": "424e39d4-9415-424f-a61c-a28d004f562e",
   "metadata": {},
   "source": [
    "### Explore the pipeline"
   ]
  },
  {
   "cell_type": "code",
   "execution_count": 102,
   "id": "979bcacc-1c7a-4674-8a10-2111d915b752",
   "metadata": {},
   "outputs": [
    {
     "data": {
      "text/plain": [
       "{'tf1': ColumnTransformer(remainder='passthrough',\n",
       "                   transformers=[('impute_age', SimpleImputer(), [2]),\n",
       "                                 ('impute_emb',\n",
       "                                  SimpleImputer(strategy='most_frequent'),\n",
       "                                  [6])]),\n",
       " 'tf2': ColumnTransformer(remainder='passthrough',\n",
       "                   transformers=[('ohe_sex_embarked',\n",
       "                                  OneHotEncoder(handle_unknown='ignore',\n",
       "                                                sparse=False),\n",
       "                                  [1, 6])]),\n",
       " 'tf3': ColumnTransformer(transformers=[('scalex', MinMaxScaler(), slice(0, 10, None))]),\n",
       " 'tf4': SelectKBest(k=8, score_func=<function chi2 at 0x000002117B214790>),\n",
       " 'tf5': DecisionTreeClassifier()}"
      ]
     },
     "execution_count": 102,
     "metadata": {},
     "output_type": "execute_result"
    }
   ],
   "source": [
    "pipe.named_steps"
   ]
  },
  {
   "cell_type": "code",
   "execution_count": 107,
   "id": "3ddc0615-d902-4b5f-8370-4f7f1360a14a",
   "metadata": {},
   "outputs": [
    {
     "data": {
      "text/plain": [
       "[('impute_age', SimpleImputer(), [2]),\n",
       " ('impute_emb', SimpleImputer(strategy='most_frequent'), [6]),\n",
       " ('remainder', 'passthrough', [0, 1, 3, 4, 5])]"
      ]
     },
     "execution_count": 107,
     "metadata": {},
     "output_type": "execute_result"
    }
   ],
   "source": [
    "pipe.named_steps['tf1'].transformers_"
   ]
  },
  {
   "cell_type": "code",
   "execution_count": 111,
   "id": "0f250a36-b18e-4ae0-8db9-8211f2e10ba3",
   "metadata": {},
   "outputs": [
    {
     "data": {
      "text/html": [
       "<style>#sk-87fbccf4-e258-4383-816d-fd5267e5dda3 {color: black;background-color: white;}#sk-87fbccf4-e258-4383-816d-fd5267e5dda3 pre{padding: 0;}#sk-87fbccf4-e258-4383-816d-fd5267e5dda3 div.sk-toggleable {background-color: white;}#sk-87fbccf4-e258-4383-816d-fd5267e5dda3 label.sk-toggleable__label {cursor: pointer;display: block;width: 100%;margin-bottom: 0;padding: 0.3em;box-sizing: border-box;text-align: center;}#sk-87fbccf4-e258-4383-816d-fd5267e5dda3 label.sk-toggleable__label-arrow:before {content: \"▸\";float: left;margin-right: 0.25em;color: #696969;}#sk-87fbccf4-e258-4383-816d-fd5267e5dda3 label.sk-toggleable__label-arrow:hover:before {color: black;}#sk-87fbccf4-e258-4383-816d-fd5267e5dda3 div.sk-estimator:hover label.sk-toggleable__label-arrow:before {color: black;}#sk-87fbccf4-e258-4383-816d-fd5267e5dda3 div.sk-toggleable__content {max-height: 0;max-width: 0;overflow: hidden;text-align: left;background-color: #f0f8ff;}#sk-87fbccf4-e258-4383-816d-fd5267e5dda3 div.sk-toggleable__content pre {margin: 0.2em;color: black;border-radius: 0.25em;background-color: #f0f8ff;}#sk-87fbccf4-e258-4383-816d-fd5267e5dda3 input.sk-toggleable__control:checked~div.sk-toggleable__content {max-height: 200px;max-width: 100%;overflow: auto;}#sk-87fbccf4-e258-4383-816d-fd5267e5dda3 input.sk-toggleable__control:checked~label.sk-toggleable__label-arrow:before {content: \"▾\";}#sk-87fbccf4-e258-4383-816d-fd5267e5dda3 div.sk-estimator input.sk-toggleable__control:checked~label.sk-toggleable__label {background-color: #d4ebff;}#sk-87fbccf4-e258-4383-816d-fd5267e5dda3 div.sk-label input.sk-toggleable__control:checked~label.sk-toggleable__label {background-color: #d4ebff;}#sk-87fbccf4-e258-4383-816d-fd5267e5dda3 input.sk-hidden--visually {border: 0;clip: rect(1px 1px 1px 1px);clip: rect(1px, 1px, 1px, 1px);height: 1px;margin: -1px;overflow: hidden;padding: 0;position: absolute;width: 1px;}#sk-87fbccf4-e258-4383-816d-fd5267e5dda3 div.sk-estimator {font-family: monospace;background-color: #f0f8ff;border: 1px dotted black;border-radius: 0.25em;box-sizing: border-box;margin-bottom: 0.5em;}#sk-87fbccf4-e258-4383-816d-fd5267e5dda3 div.sk-estimator:hover {background-color: #d4ebff;}#sk-87fbccf4-e258-4383-816d-fd5267e5dda3 div.sk-parallel-item::after {content: \"\";width: 100%;border-bottom: 1px solid gray;flex-grow: 1;}#sk-87fbccf4-e258-4383-816d-fd5267e5dda3 div.sk-label:hover label.sk-toggleable__label {background-color: #d4ebff;}#sk-87fbccf4-e258-4383-816d-fd5267e5dda3 div.sk-serial::before {content: \"\";position: absolute;border-left: 1px solid gray;box-sizing: border-box;top: 2em;bottom: 0;left: 50%;}#sk-87fbccf4-e258-4383-816d-fd5267e5dda3 div.sk-serial {display: flex;flex-direction: column;align-items: center;background-color: white;padding-right: 0.2em;padding-left: 0.2em;}#sk-87fbccf4-e258-4383-816d-fd5267e5dda3 div.sk-item {z-index: 1;}#sk-87fbccf4-e258-4383-816d-fd5267e5dda3 div.sk-parallel {display: flex;align-items: stretch;justify-content: center;background-color: white;}#sk-87fbccf4-e258-4383-816d-fd5267e5dda3 div.sk-parallel::before {content: \"\";position: absolute;border-left: 1px solid gray;box-sizing: border-box;top: 2em;bottom: 0;left: 50%;}#sk-87fbccf4-e258-4383-816d-fd5267e5dda3 div.sk-parallel-item {display: flex;flex-direction: column;position: relative;background-color: white;}#sk-87fbccf4-e258-4383-816d-fd5267e5dda3 div.sk-parallel-item:first-child::after {align-self: flex-end;width: 50%;}#sk-87fbccf4-e258-4383-816d-fd5267e5dda3 div.sk-parallel-item:last-child::after {align-self: flex-start;width: 50%;}#sk-87fbccf4-e258-4383-816d-fd5267e5dda3 div.sk-parallel-item:only-child::after {width: 0;}#sk-87fbccf4-e258-4383-816d-fd5267e5dda3 div.sk-dashed-wrapped {border: 1px dashed gray;margin: 0 0.4em 0.5em 0.4em;box-sizing: border-box;padding-bottom: 0.4em;background-color: white;position: relative;}#sk-87fbccf4-e258-4383-816d-fd5267e5dda3 div.sk-label label {font-family: monospace;font-weight: bold;background-color: white;display: inline-block;line-height: 1.2em;}#sk-87fbccf4-e258-4383-816d-fd5267e5dda3 div.sk-label-container {position: relative;z-index: 2;text-align: center;}#sk-87fbccf4-e258-4383-816d-fd5267e5dda3 div.sk-container {/* jupyter's `normalize.less` sets `[hidden] { display: none; }` but bootstrap.min.css set `[hidden] { display: none !important; }` so we also need the `!important` here to be able to override the default hidden behavior on the sphinx rendered scikit-learn.org. See: https://github.com/scikit-learn/scikit-learn/issues/21755 */display: inline-block !important;position: relative;}#sk-87fbccf4-e258-4383-816d-fd5267e5dda3 div.sk-text-repr-fallback {display: none;}</style><div id=\"sk-87fbccf4-e258-4383-816d-fd5267e5dda3\" class=\"sk-top-container\"><div class=\"sk-text-repr-fallback\"><pre>SimpleImputer()</pre><b>Please rerun this cell to show the HTML repr or trust the notebook.</b></div><div class=\"sk-container\" hidden><div class=\"sk-item\"><div class=\"sk-estimator sk-toggleable\"><input class=\"sk-toggleable__control sk-hidden--visually\" id=\"33728897-6d6f-4f08-8d74-360365eb4a17\" type=\"checkbox\" checked><label for=\"33728897-6d6f-4f08-8d74-360365eb4a17\" class=\"sk-toggleable__label sk-toggleable__label-arrow\">SimpleImputer</label><div class=\"sk-toggleable__content\"><pre>SimpleImputer()</pre></div></div></div></div></div>"
      ],
      "text/plain": [
       "SimpleImputer()"
      ]
     },
     "execution_count": 111,
     "metadata": {},
     "output_type": "execute_result"
    }
   ],
   "source": [
    "pipe.named_steps['tf1'].transformers_[0][1]"
   ]
  },
  {
   "cell_type": "code",
   "execution_count": 112,
   "id": "3af7ed7f-f1be-4096-adf2-25bcab851777",
   "metadata": {},
   "outputs": [
    {
     "data": {
      "text/plain": [
       "array([29.30201863])"
      ]
     },
     "execution_count": 112,
     "metadata": {},
     "output_type": "execute_result"
    }
   ],
   "source": [
    "pipe.named_steps['tf1'].transformers_[0][1].statistics_ #mean age as strategy used was mean"
   ]
  },
  {
   "cell_type": "code",
   "execution_count": 113,
   "id": "9fdddf89-a6be-4c25-84c1-994d0ac274d8",
   "metadata": {},
   "outputs": [
    {
     "data": {
      "text/plain": [
       "array(['S'], dtype=object)"
      ]
     },
     "execution_count": 113,
     "metadata": {},
     "output_type": "execute_result"
    }
   ],
   "source": [
    "pipe.named_steps['tf1'].transformers_[1][1].statistics_  #most frequent embarked value was 'S''"
   ]
  },
  {
   "cell_type": "code",
   "execution_count": 114,
   "id": "6f10328d-482e-46b1-ae98-c4670af3854f",
   "metadata": {},
   "outputs": [
    {
     "data": {
      "text/html": [
       "<style>#sk-a3490b66-6f2f-4ada-b70f-ff640e149b34 {color: black;background-color: white;}#sk-a3490b66-6f2f-4ada-b70f-ff640e149b34 pre{padding: 0;}#sk-a3490b66-6f2f-4ada-b70f-ff640e149b34 div.sk-toggleable {background-color: white;}#sk-a3490b66-6f2f-4ada-b70f-ff640e149b34 label.sk-toggleable__label {cursor: pointer;display: block;width: 100%;margin-bottom: 0;padding: 0.3em;box-sizing: border-box;text-align: center;}#sk-a3490b66-6f2f-4ada-b70f-ff640e149b34 label.sk-toggleable__label-arrow:before {content: \"▸\";float: left;margin-right: 0.25em;color: #696969;}#sk-a3490b66-6f2f-4ada-b70f-ff640e149b34 label.sk-toggleable__label-arrow:hover:before {color: black;}#sk-a3490b66-6f2f-4ada-b70f-ff640e149b34 div.sk-estimator:hover label.sk-toggleable__label-arrow:before {color: black;}#sk-a3490b66-6f2f-4ada-b70f-ff640e149b34 div.sk-toggleable__content {max-height: 0;max-width: 0;overflow: hidden;text-align: left;background-color: #f0f8ff;}#sk-a3490b66-6f2f-4ada-b70f-ff640e149b34 div.sk-toggleable__content pre {margin: 0.2em;color: black;border-radius: 0.25em;background-color: #f0f8ff;}#sk-a3490b66-6f2f-4ada-b70f-ff640e149b34 input.sk-toggleable__control:checked~div.sk-toggleable__content {max-height: 200px;max-width: 100%;overflow: auto;}#sk-a3490b66-6f2f-4ada-b70f-ff640e149b34 input.sk-toggleable__control:checked~label.sk-toggleable__label-arrow:before {content: \"▾\";}#sk-a3490b66-6f2f-4ada-b70f-ff640e149b34 div.sk-estimator input.sk-toggleable__control:checked~label.sk-toggleable__label {background-color: #d4ebff;}#sk-a3490b66-6f2f-4ada-b70f-ff640e149b34 div.sk-label input.sk-toggleable__control:checked~label.sk-toggleable__label {background-color: #d4ebff;}#sk-a3490b66-6f2f-4ada-b70f-ff640e149b34 input.sk-hidden--visually {border: 0;clip: rect(1px 1px 1px 1px);clip: rect(1px, 1px, 1px, 1px);height: 1px;margin: -1px;overflow: hidden;padding: 0;position: absolute;width: 1px;}#sk-a3490b66-6f2f-4ada-b70f-ff640e149b34 div.sk-estimator {font-family: monospace;background-color: #f0f8ff;border: 1px dotted black;border-radius: 0.25em;box-sizing: border-box;margin-bottom: 0.5em;}#sk-a3490b66-6f2f-4ada-b70f-ff640e149b34 div.sk-estimator:hover {background-color: #d4ebff;}#sk-a3490b66-6f2f-4ada-b70f-ff640e149b34 div.sk-parallel-item::after {content: \"\";width: 100%;border-bottom: 1px solid gray;flex-grow: 1;}#sk-a3490b66-6f2f-4ada-b70f-ff640e149b34 div.sk-label:hover label.sk-toggleable__label {background-color: #d4ebff;}#sk-a3490b66-6f2f-4ada-b70f-ff640e149b34 div.sk-serial::before {content: \"\";position: absolute;border-left: 1px solid gray;box-sizing: border-box;top: 2em;bottom: 0;left: 50%;}#sk-a3490b66-6f2f-4ada-b70f-ff640e149b34 div.sk-serial {display: flex;flex-direction: column;align-items: center;background-color: white;padding-right: 0.2em;padding-left: 0.2em;}#sk-a3490b66-6f2f-4ada-b70f-ff640e149b34 div.sk-item {z-index: 1;}#sk-a3490b66-6f2f-4ada-b70f-ff640e149b34 div.sk-parallel {display: flex;align-items: stretch;justify-content: center;background-color: white;}#sk-a3490b66-6f2f-4ada-b70f-ff640e149b34 div.sk-parallel::before {content: \"\";position: absolute;border-left: 1px solid gray;box-sizing: border-box;top: 2em;bottom: 0;left: 50%;}#sk-a3490b66-6f2f-4ada-b70f-ff640e149b34 div.sk-parallel-item {display: flex;flex-direction: column;position: relative;background-color: white;}#sk-a3490b66-6f2f-4ada-b70f-ff640e149b34 div.sk-parallel-item:first-child::after {align-self: flex-end;width: 50%;}#sk-a3490b66-6f2f-4ada-b70f-ff640e149b34 div.sk-parallel-item:last-child::after {align-self: flex-start;width: 50%;}#sk-a3490b66-6f2f-4ada-b70f-ff640e149b34 div.sk-parallel-item:only-child::after {width: 0;}#sk-a3490b66-6f2f-4ada-b70f-ff640e149b34 div.sk-dashed-wrapped {border: 1px dashed gray;margin: 0 0.4em 0.5em 0.4em;box-sizing: border-box;padding-bottom: 0.4em;background-color: white;position: relative;}#sk-a3490b66-6f2f-4ada-b70f-ff640e149b34 div.sk-label label {font-family: monospace;font-weight: bold;background-color: white;display: inline-block;line-height: 1.2em;}#sk-a3490b66-6f2f-4ada-b70f-ff640e149b34 div.sk-label-container {position: relative;z-index: 2;text-align: center;}#sk-a3490b66-6f2f-4ada-b70f-ff640e149b34 div.sk-container {/* jupyter's `normalize.less` sets `[hidden] { display: none; }` but bootstrap.min.css set `[hidden] { display: none !important; }` so we also need the `!important` here to be able to override the default hidden behavior on the sphinx rendered scikit-learn.org. See: https://github.com/scikit-learn/scikit-learn/issues/21755 */display: inline-block !important;position: relative;}#sk-a3490b66-6f2f-4ada-b70f-ff640e149b34 div.sk-text-repr-fallback {display: none;}</style><div id=\"sk-a3490b66-6f2f-4ada-b70f-ff640e149b34\" class=\"sk-top-container\"><div class=\"sk-text-repr-fallback\"><pre>ColumnTransformer(remainder=&#x27;passthrough&#x27;,\n",
       "                  transformers=[(&#x27;ohe_sex_embarked&#x27;,\n",
       "                                 OneHotEncoder(handle_unknown=&#x27;ignore&#x27;,\n",
       "                                               sparse=False),\n",
       "                                 [1, 6])])</pre><b>Please rerun this cell to show the HTML repr or trust the notebook.</b></div><div class=\"sk-container\" hidden><div class=\"sk-item sk-dashed-wrapped\"><div class=\"sk-label-container\"><div class=\"sk-label sk-toggleable\"><input class=\"sk-toggleable__control sk-hidden--visually\" id=\"90ed4db2-23c0-4e62-8a33-fc76915d1d33\" type=\"checkbox\" ><label for=\"90ed4db2-23c0-4e62-8a33-fc76915d1d33\" class=\"sk-toggleable__label sk-toggleable__label-arrow\">ColumnTransformer</label><div class=\"sk-toggleable__content\"><pre>ColumnTransformer(remainder=&#x27;passthrough&#x27;,\n",
       "                  transformers=[(&#x27;ohe_sex_embarked&#x27;,\n",
       "                                 OneHotEncoder(handle_unknown=&#x27;ignore&#x27;,\n",
       "                                               sparse=False),\n",
       "                                 [1, 6])])</pre></div></div></div><div class=\"sk-parallel\"><div class=\"sk-parallel-item\"><div class=\"sk-item\"><div class=\"sk-label-container\"><div class=\"sk-label sk-toggleable\"><input class=\"sk-toggleable__control sk-hidden--visually\" id=\"52efaf37-61e6-4f4f-ae04-ef67c3537b6e\" type=\"checkbox\" ><label for=\"52efaf37-61e6-4f4f-ae04-ef67c3537b6e\" class=\"sk-toggleable__label sk-toggleable__label-arrow\">ohe_sex_embarked</label><div class=\"sk-toggleable__content\"><pre>[1, 6]</pre></div></div></div><div class=\"sk-serial\"><div class=\"sk-item\"><div class=\"sk-estimator sk-toggleable\"><input class=\"sk-toggleable__control sk-hidden--visually\" id=\"850ceb73-e25f-411a-93ca-8cc3a1bc2634\" type=\"checkbox\" ><label for=\"850ceb73-e25f-411a-93ca-8cc3a1bc2634\" class=\"sk-toggleable__label sk-toggleable__label-arrow\">OneHotEncoder</label><div class=\"sk-toggleable__content\"><pre>OneHotEncoder(handle_unknown=&#x27;ignore&#x27;, sparse=False)</pre></div></div></div></div></div></div><div class=\"sk-parallel-item\"><div class=\"sk-item\"><div class=\"sk-label-container\"><div class=\"sk-label sk-toggleable\"><input class=\"sk-toggleable__control sk-hidden--visually\" id=\"cc152bc7-2d13-4749-9d80-eba455e1321d\" type=\"checkbox\" ><label for=\"cc152bc7-2d13-4749-9d80-eba455e1321d\" class=\"sk-toggleable__label sk-toggleable__label-arrow\">remainder</label><div class=\"sk-toggleable__content\"><pre>[0, 2, 3, 4, 5]</pre></div></div></div><div class=\"sk-serial\"><div class=\"sk-item\"><div class=\"sk-estimator sk-toggleable\"><input class=\"sk-toggleable__control sk-hidden--visually\" id=\"08a9a8fe-25f3-40c4-9dd2-fc1540cb5d0b\" type=\"checkbox\" ><label for=\"08a9a8fe-25f3-40c4-9dd2-fc1540cb5d0b\" class=\"sk-toggleable__label sk-toggleable__label-arrow\">passthrough</label><div class=\"sk-toggleable__content\"><pre>passthrough</pre></div></div></div></div></div></div></div></div></div></div>"
      ],
      "text/plain": [
       "ColumnTransformer(remainder='passthrough',\n",
       "                  transformers=[('ohe_sex_embarked',\n",
       "                                 OneHotEncoder(handle_unknown='ignore',\n",
       "                                               sparse=False),\n",
       "                                 [1, 6])])"
      ]
     },
     "execution_count": 114,
     "metadata": {},
     "output_type": "execute_result"
    }
   ],
   "source": [
    "pipe.named_steps['tf2']"
   ]
  },
  {
   "cell_type": "code",
   "execution_count": 115,
   "id": "48272c06-1ff1-4f60-b4a8-42a1dc334384",
   "metadata": {},
   "outputs": [
    {
     "data": {
      "text/plain": [
       "[('ohe_sex_embarked',\n",
       "  OneHotEncoder(handle_unknown='ignore', sparse=False),\n",
       "  [1, 6]),\n",
       " ('remainder', 'passthrough', [0, 2, 3, 4, 5])]"
      ]
     },
     "execution_count": 115,
     "metadata": {},
     "output_type": "execute_result"
    }
   ],
   "source": [
    "pipe.named_steps['tf2'].transformers_"
   ]
  },
  {
   "cell_type": "code",
   "execution_count": 117,
   "id": "6033100b-b4b4-4a1a-b788-2aad25889a64",
   "metadata": {},
   "outputs": [
    {
     "data": {
      "text/html": [
       "<style>#sk-b1c560fc-f693-4693-8155-c0af7f4cf975 {color: black;background-color: white;}#sk-b1c560fc-f693-4693-8155-c0af7f4cf975 pre{padding: 0;}#sk-b1c560fc-f693-4693-8155-c0af7f4cf975 div.sk-toggleable {background-color: white;}#sk-b1c560fc-f693-4693-8155-c0af7f4cf975 label.sk-toggleable__label {cursor: pointer;display: block;width: 100%;margin-bottom: 0;padding: 0.3em;box-sizing: border-box;text-align: center;}#sk-b1c560fc-f693-4693-8155-c0af7f4cf975 label.sk-toggleable__label-arrow:before {content: \"▸\";float: left;margin-right: 0.25em;color: #696969;}#sk-b1c560fc-f693-4693-8155-c0af7f4cf975 label.sk-toggleable__label-arrow:hover:before {color: black;}#sk-b1c560fc-f693-4693-8155-c0af7f4cf975 div.sk-estimator:hover label.sk-toggleable__label-arrow:before {color: black;}#sk-b1c560fc-f693-4693-8155-c0af7f4cf975 div.sk-toggleable__content {max-height: 0;max-width: 0;overflow: hidden;text-align: left;background-color: #f0f8ff;}#sk-b1c560fc-f693-4693-8155-c0af7f4cf975 div.sk-toggleable__content pre {margin: 0.2em;color: black;border-radius: 0.25em;background-color: #f0f8ff;}#sk-b1c560fc-f693-4693-8155-c0af7f4cf975 input.sk-toggleable__control:checked~div.sk-toggleable__content {max-height: 200px;max-width: 100%;overflow: auto;}#sk-b1c560fc-f693-4693-8155-c0af7f4cf975 input.sk-toggleable__control:checked~label.sk-toggleable__label-arrow:before {content: \"▾\";}#sk-b1c560fc-f693-4693-8155-c0af7f4cf975 div.sk-estimator input.sk-toggleable__control:checked~label.sk-toggleable__label {background-color: #d4ebff;}#sk-b1c560fc-f693-4693-8155-c0af7f4cf975 div.sk-label input.sk-toggleable__control:checked~label.sk-toggleable__label {background-color: #d4ebff;}#sk-b1c560fc-f693-4693-8155-c0af7f4cf975 input.sk-hidden--visually {border: 0;clip: rect(1px 1px 1px 1px);clip: rect(1px, 1px, 1px, 1px);height: 1px;margin: -1px;overflow: hidden;padding: 0;position: absolute;width: 1px;}#sk-b1c560fc-f693-4693-8155-c0af7f4cf975 div.sk-estimator {font-family: monospace;background-color: #f0f8ff;border: 1px dotted black;border-radius: 0.25em;box-sizing: border-box;margin-bottom: 0.5em;}#sk-b1c560fc-f693-4693-8155-c0af7f4cf975 div.sk-estimator:hover {background-color: #d4ebff;}#sk-b1c560fc-f693-4693-8155-c0af7f4cf975 div.sk-parallel-item::after {content: \"\";width: 100%;border-bottom: 1px solid gray;flex-grow: 1;}#sk-b1c560fc-f693-4693-8155-c0af7f4cf975 div.sk-label:hover label.sk-toggleable__label {background-color: #d4ebff;}#sk-b1c560fc-f693-4693-8155-c0af7f4cf975 div.sk-serial::before {content: \"\";position: absolute;border-left: 1px solid gray;box-sizing: border-box;top: 2em;bottom: 0;left: 50%;}#sk-b1c560fc-f693-4693-8155-c0af7f4cf975 div.sk-serial {display: flex;flex-direction: column;align-items: center;background-color: white;padding-right: 0.2em;padding-left: 0.2em;}#sk-b1c560fc-f693-4693-8155-c0af7f4cf975 div.sk-item {z-index: 1;}#sk-b1c560fc-f693-4693-8155-c0af7f4cf975 div.sk-parallel {display: flex;align-items: stretch;justify-content: center;background-color: white;}#sk-b1c560fc-f693-4693-8155-c0af7f4cf975 div.sk-parallel::before {content: \"\";position: absolute;border-left: 1px solid gray;box-sizing: border-box;top: 2em;bottom: 0;left: 50%;}#sk-b1c560fc-f693-4693-8155-c0af7f4cf975 div.sk-parallel-item {display: flex;flex-direction: column;position: relative;background-color: white;}#sk-b1c560fc-f693-4693-8155-c0af7f4cf975 div.sk-parallel-item:first-child::after {align-self: flex-end;width: 50%;}#sk-b1c560fc-f693-4693-8155-c0af7f4cf975 div.sk-parallel-item:last-child::after {align-self: flex-start;width: 50%;}#sk-b1c560fc-f693-4693-8155-c0af7f4cf975 div.sk-parallel-item:only-child::after {width: 0;}#sk-b1c560fc-f693-4693-8155-c0af7f4cf975 div.sk-dashed-wrapped {border: 1px dashed gray;margin: 0 0.4em 0.5em 0.4em;box-sizing: border-box;padding-bottom: 0.4em;background-color: white;position: relative;}#sk-b1c560fc-f693-4693-8155-c0af7f4cf975 div.sk-label label {font-family: monospace;font-weight: bold;background-color: white;display: inline-block;line-height: 1.2em;}#sk-b1c560fc-f693-4693-8155-c0af7f4cf975 div.sk-label-container {position: relative;z-index: 2;text-align: center;}#sk-b1c560fc-f693-4693-8155-c0af7f4cf975 div.sk-container {/* jupyter's `normalize.less` sets `[hidden] { display: none; }` but bootstrap.min.css set `[hidden] { display: none !important; }` so we also need the `!important` here to be able to override the default hidden behavior on the sphinx rendered scikit-learn.org. See: https://github.com/scikit-learn/scikit-learn/issues/21755 */display: inline-block !important;position: relative;}#sk-b1c560fc-f693-4693-8155-c0af7f4cf975 div.sk-text-repr-fallback {display: none;}</style><div id=\"sk-b1c560fc-f693-4693-8155-c0af7f4cf975\" class=\"sk-top-container\"><div class=\"sk-text-repr-fallback\"><pre>OneHotEncoder(handle_unknown=&#x27;ignore&#x27;, sparse=False)</pre><b>Please rerun this cell to show the HTML repr or trust the notebook.</b></div><div class=\"sk-container\" hidden><div class=\"sk-item\"><div class=\"sk-estimator sk-toggleable\"><input class=\"sk-toggleable__control sk-hidden--visually\" id=\"ea922444-34a6-4ef9-8f91-7301ef762121\" type=\"checkbox\" checked><label for=\"ea922444-34a6-4ef9-8f91-7301ef762121\" class=\"sk-toggleable__label sk-toggleable__label-arrow\">OneHotEncoder</label><div class=\"sk-toggleable__content\"><pre>OneHotEncoder(handle_unknown=&#x27;ignore&#x27;, sparse=False)</pre></div></div></div></div></div>"
      ],
      "text/plain": [
       "OneHotEncoder(handle_unknown='ignore', sparse=False)"
      ]
     },
     "execution_count": 117,
     "metadata": {},
     "output_type": "execute_result"
    }
   ],
   "source": [
    "pipe.named_steps['tf2'].transformers_[0][1]"
   ]
  },
  {
   "cell_type": "code",
   "execution_count": 119,
   "id": "125ed870-8a55-4231-af74-8fb3b2021337",
   "metadata": {},
   "outputs": [
    {
     "data": {
      "text/plain": [
       "[array(['C', 'Q', 'S'], dtype=object),\n",
       " array([0.0, 4.0125, 5.0, 6.2375, 6.4375, 6.45, 6.4958, 6.75, 6.8583, 6.95,\n",
       "        6.975, 7.0458, 7.05, 7.0542, 7.125, 7.1417, 7.225, 7.2292, 7.25,\n",
       "        7.3125, 7.4958, 7.5208, 7.55, 7.6292, 7.65, 7.7292, 7.7333, 7.7375,\n",
       "        7.7417, 7.75, 7.775, 7.7875, 7.7958, 7.8, 7.8292, 7.8542, 7.875,\n",
       "        7.8792, 7.8875, 7.8958, 7.925, 8.0292, 8.05, 8.1375, 8.1583, 8.3,\n",
       "        8.3625, 8.4042, 8.4333, 8.4583, 8.5167, 8.6542, 8.6625, 8.6833,\n",
       "        8.7125, 8.85, 9.0, 9.2167, 9.225, 9.35, 9.475, 9.4833, 9.5, 9.5875,\n",
       "        9.825, 9.8375, 9.8417, 9.8458, 10.1708, 10.4625, 10.5, 10.5167,\n",
       "        11.1333, 11.2417, 11.5, 12.0, 12.275, 12.2875, 12.35, 12.475,\n",
       "        12.525, 12.65, 12.875, 13.0, 13.4167, 13.5, 13.7917, 13.8583,\n",
       "        13.8625, 14.0, 14.1083, 14.4, 14.4542, 14.4583, 14.5, 15.0,\n",
       "        15.0458, 15.05, 15.1, 15.2458, 15.5, 15.55, 15.7417, 15.75, 15.85,\n",
       "        15.9, 16.0, 16.1, 16.7, 17.4, 17.8, 18.0, 18.75, 18.7875, 19.2583,\n",
       "        19.5, 19.9667, 20.2125, 20.25, 20.525, 20.575, 21.0, 21.075,\n",
       "        21.6792, 22.025, 22.3583, 22.525, 23.0, 23.25, 23.45, 24.0, 24.15,\n",
       "        25.4667, 25.5875, 25.925, 25.9292, 26.0, 26.25, 26.2833, 26.2875,\n",
       "        26.3875, 26.55, 27.0, 27.7208, 27.75, 27.9, 28.5, 29.0, 29.125,\n",
       "        29.7, 30.0, 30.0708, 30.5, 30.6958, 31.0, 31.275, 31.3875, 32.5,\n",
       "        33.0, 33.5, 34.375, 34.6542, 35.5, 36.75, 37.0042, 38.5, 39.0,\n",
       "        39.4, 39.6, 39.6875, 40.125, 41.5792, 42.4, 46.9, 47.1, 49.5,\n",
       "        49.5042, 50.0, 50.4958, 51.4792, 51.8625, 52.0, 52.5542, 53.1,\n",
       "        55.0, 55.4417, 56.4958, 56.9292, 57.0, 57.9792, 59.4, 61.175,\n",
       "        61.9792, 63.3583, 65.0, 66.6, 69.3, 69.55, 71.0, 71.2833, 73.5,\n",
       "        75.25, 76.2917, 76.7292, 77.2875, 77.9583, 78.2667, 78.85, 79.2,\n",
       "        79.65, 80.0, 81.8583, 82.1708, 83.1583, 86.5, 89.1042, 90.0,\n",
       "        91.0792, 93.5, 106.425, 108.9, 110.8833, 113.275, 120.0, 133.65,\n",
       "        134.5, 135.6333, 146.5208, 151.55, 153.4625, 164.8667, 211.3375,\n",
       "        211.5, 221.7792, 227.525, 247.5208, 262.375, 263.0, 512.3292],\n",
       "       dtype=object)]"
      ]
     },
     "execution_count": 119,
     "metadata": {},
     "output_type": "execute_result"
    }
   ],
   "source": [
    "pipe.named_steps['tf2'].transformers_[0][1].categories_"
   ]
  },
  {
   "cell_type": "code",
   "execution_count": 120,
   "id": "da84ab73-5501-4d11-9b90-d39435943b51",
   "metadata": {},
   "outputs": [
    {
     "data": {
      "text/plain": [
       "2"
      ]
     },
     "execution_count": 120,
     "metadata": {},
     "output_type": "execute_result"
    }
   ],
   "source": [
    "pipe.named_steps['tf2'].transformers_[0][1].n_features_in_"
   ]
  },
  {
   "cell_type": "markdown",
   "id": "aa74603f-fcba-4369-a654-2cd141c19980",
   "metadata": {},
   "source": [
    "### Cross validation using pipelines"
   ]
  },
  {
   "cell_type": "code",
   "execution_count": 128,
   "id": "c4cbbfb8-645f-454c-8e80-1803706df8a1",
   "metadata": {},
   "outputs": [],
   "source": [
    "cross_val = cross_val_score(pipe,x_train,y_train,cv=5,scoring='accuracy')"
   ]
  },
  {
   "cell_type": "code",
   "execution_count": 131,
   "id": "54b27516-4c63-4344-b483-5264ff1b1942",
   "metadata": {},
   "outputs": [
    {
     "data": {
      "text/plain": [
       "0.6441614906832298"
      ]
     },
     "execution_count": 131,
     "metadata": {},
     "output_type": "execute_result"
    }
   ],
   "source": [
    "cross_val.mean() #mean accuracy after splitting and training 5 times"
   ]
  },
  {
   "cell_type": "markdown",
   "id": "446ab048-acd7-4522-903c-268f07bfc24e",
   "metadata": {},
   "source": [
    "### GridSearch and Hyper-parameter tuning for decision tree classifier"
   ]
  },
  {
   "cell_type": "code",
   "execution_count": 133,
   "id": "d0dad42f-37e6-4425-bbbf-a13ffb2cb911",
   "metadata": {},
   "outputs": [],
   "source": [
    "params = {\n",
    "            'tf5__max_depth':[1,2,3,4,5,None]\n",
    "            }"
   ]
  },
  {
   "cell_type": "code",
   "execution_count": 134,
   "id": "04e1dab6-e73d-4c20-a26a-0aa88ab6d887",
   "metadata": {},
   "outputs": [
    {
     "data": {
      "text/html": [
       "<style>#sk-457d23c5-66cd-4cfa-8848-dd67a278c1d6 {color: black;background-color: white;}#sk-457d23c5-66cd-4cfa-8848-dd67a278c1d6 pre{padding: 0;}#sk-457d23c5-66cd-4cfa-8848-dd67a278c1d6 div.sk-toggleable {background-color: white;}#sk-457d23c5-66cd-4cfa-8848-dd67a278c1d6 label.sk-toggleable__label {cursor: pointer;display: block;width: 100%;margin-bottom: 0;padding: 0.3em;box-sizing: border-box;text-align: center;}#sk-457d23c5-66cd-4cfa-8848-dd67a278c1d6 label.sk-toggleable__label-arrow:before {content: \"▸\";float: left;margin-right: 0.25em;color: #696969;}#sk-457d23c5-66cd-4cfa-8848-dd67a278c1d6 label.sk-toggleable__label-arrow:hover:before {color: black;}#sk-457d23c5-66cd-4cfa-8848-dd67a278c1d6 div.sk-estimator:hover label.sk-toggleable__label-arrow:before {color: black;}#sk-457d23c5-66cd-4cfa-8848-dd67a278c1d6 div.sk-toggleable__content {max-height: 0;max-width: 0;overflow: hidden;text-align: left;background-color: #f0f8ff;}#sk-457d23c5-66cd-4cfa-8848-dd67a278c1d6 div.sk-toggleable__content pre {margin: 0.2em;color: black;border-radius: 0.25em;background-color: #f0f8ff;}#sk-457d23c5-66cd-4cfa-8848-dd67a278c1d6 input.sk-toggleable__control:checked~div.sk-toggleable__content {max-height: 200px;max-width: 100%;overflow: auto;}#sk-457d23c5-66cd-4cfa-8848-dd67a278c1d6 input.sk-toggleable__control:checked~label.sk-toggleable__label-arrow:before {content: \"▾\";}#sk-457d23c5-66cd-4cfa-8848-dd67a278c1d6 div.sk-estimator input.sk-toggleable__control:checked~label.sk-toggleable__label {background-color: #d4ebff;}#sk-457d23c5-66cd-4cfa-8848-dd67a278c1d6 div.sk-label input.sk-toggleable__control:checked~label.sk-toggleable__label {background-color: #d4ebff;}#sk-457d23c5-66cd-4cfa-8848-dd67a278c1d6 input.sk-hidden--visually {border: 0;clip: rect(1px 1px 1px 1px);clip: rect(1px, 1px, 1px, 1px);height: 1px;margin: -1px;overflow: hidden;padding: 0;position: absolute;width: 1px;}#sk-457d23c5-66cd-4cfa-8848-dd67a278c1d6 div.sk-estimator {font-family: monospace;background-color: #f0f8ff;border: 1px dotted black;border-radius: 0.25em;box-sizing: border-box;margin-bottom: 0.5em;}#sk-457d23c5-66cd-4cfa-8848-dd67a278c1d6 div.sk-estimator:hover {background-color: #d4ebff;}#sk-457d23c5-66cd-4cfa-8848-dd67a278c1d6 div.sk-parallel-item::after {content: \"\";width: 100%;border-bottom: 1px solid gray;flex-grow: 1;}#sk-457d23c5-66cd-4cfa-8848-dd67a278c1d6 div.sk-label:hover label.sk-toggleable__label {background-color: #d4ebff;}#sk-457d23c5-66cd-4cfa-8848-dd67a278c1d6 div.sk-serial::before {content: \"\";position: absolute;border-left: 1px solid gray;box-sizing: border-box;top: 2em;bottom: 0;left: 50%;}#sk-457d23c5-66cd-4cfa-8848-dd67a278c1d6 div.sk-serial {display: flex;flex-direction: column;align-items: center;background-color: white;padding-right: 0.2em;padding-left: 0.2em;}#sk-457d23c5-66cd-4cfa-8848-dd67a278c1d6 div.sk-item {z-index: 1;}#sk-457d23c5-66cd-4cfa-8848-dd67a278c1d6 div.sk-parallel {display: flex;align-items: stretch;justify-content: center;background-color: white;}#sk-457d23c5-66cd-4cfa-8848-dd67a278c1d6 div.sk-parallel::before {content: \"\";position: absolute;border-left: 1px solid gray;box-sizing: border-box;top: 2em;bottom: 0;left: 50%;}#sk-457d23c5-66cd-4cfa-8848-dd67a278c1d6 div.sk-parallel-item {display: flex;flex-direction: column;position: relative;background-color: white;}#sk-457d23c5-66cd-4cfa-8848-dd67a278c1d6 div.sk-parallel-item:first-child::after {align-self: flex-end;width: 50%;}#sk-457d23c5-66cd-4cfa-8848-dd67a278c1d6 div.sk-parallel-item:last-child::after {align-self: flex-start;width: 50%;}#sk-457d23c5-66cd-4cfa-8848-dd67a278c1d6 div.sk-parallel-item:only-child::after {width: 0;}#sk-457d23c5-66cd-4cfa-8848-dd67a278c1d6 div.sk-dashed-wrapped {border: 1px dashed gray;margin: 0 0.4em 0.5em 0.4em;box-sizing: border-box;padding-bottom: 0.4em;background-color: white;position: relative;}#sk-457d23c5-66cd-4cfa-8848-dd67a278c1d6 div.sk-label label {font-family: monospace;font-weight: bold;background-color: white;display: inline-block;line-height: 1.2em;}#sk-457d23c5-66cd-4cfa-8848-dd67a278c1d6 div.sk-label-container {position: relative;z-index: 2;text-align: center;}#sk-457d23c5-66cd-4cfa-8848-dd67a278c1d6 div.sk-container {/* jupyter's `normalize.less` sets `[hidden] { display: none; }` but bootstrap.min.css set `[hidden] { display: none !important; }` so we also need the `!important` here to be able to override the default hidden behavior on the sphinx rendered scikit-learn.org. See: https://github.com/scikit-learn/scikit-learn/issues/21755 */display: inline-block !important;position: relative;}#sk-457d23c5-66cd-4cfa-8848-dd67a278c1d6 div.sk-text-repr-fallback {display: none;}</style><div id=\"sk-457d23c5-66cd-4cfa-8848-dd67a278c1d6\" class=\"sk-top-container\"><div class=\"sk-text-repr-fallback\"><pre>GridSearchCV(cv=5,\n",
       "             estimator=Pipeline(steps=[(&#x27;tf1&#x27;,\n",
       "                                        ColumnTransformer(remainder=&#x27;passthrough&#x27;,\n",
       "                                                          transformers=[(&#x27;impute_age&#x27;,\n",
       "                                                                         SimpleImputer(),\n",
       "                                                                         [2]),\n",
       "                                                                        (&#x27;impute_emb&#x27;,\n",
       "                                                                         SimpleImputer(strategy=&#x27;most_frequent&#x27;),\n",
       "                                                                         [6])])),\n",
       "                                       (&#x27;tf2&#x27;,\n",
       "                                        ColumnTransformer(remainder=&#x27;passthrough&#x27;,\n",
       "                                                          transformers=[(&#x27;ohe_sex_embarked&#x27;,\n",
       "                                                                         OneHotEncoder(handle_unknown=&#x27;ignore&#x27;,\n",
       "                                                                                       sparse=False),\n",
       "                                                                         [1,\n",
       "                                                                          6])])),\n",
       "                                       (&#x27;tf3&#x27;,\n",
       "                                        ColumnTransformer(transformers=[(&#x27;scalex&#x27;,\n",
       "                                                                         MinMaxScaler(),\n",
       "                                                                         slice(0, 10, None))])),\n",
       "                                       (&#x27;tf4&#x27;,\n",
       "                                        SelectKBest(k=8,\n",
       "                                                    score_func=&lt;function chi2 at 0x000002117B214790&gt;)),\n",
       "                                       (&#x27;tf5&#x27;, DecisionTreeClassifier())]),\n",
       "             param_grid={&#x27;tf5__max_depth&#x27;: [1, 2, 3, 4, 5, None]},\n",
       "             scoring=&#x27;accuracy&#x27;)</pre><b>Please rerun this cell to show the HTML repr or trust the notebook.</b></div><div class=\"sk-container\" hidden><div class=\"sk-item sk-dashed-wrapped\"><div class=\"sk-label-container\"><div class=\"sk-label sk-toggleable\"><input class=\"sk-toggleable__control sk-hidden--visually\" id=\"c1bf8f12-a7c7-40a8-85e5-ff5358bbea17\" type=\"checkbox\" ><label for=\"c1bf8f12-a7c7-40a8-85e5-ff5358bbea17\" class=\"sk-toggleable__label sk-toggleable__label-arrow\">GridSearchCV</label><div class=\"sk-toggleable__content\"><pre>GridSearchCV(cv=5,\n",
       "             estimator=Pipeline(steps=[(&#x27;tf1&#x27;,\n",
       "                                        ColumnTransformer(remainder=&#x27;passthrough&#x27;,\n",
       "                                                          transformers=[(&#x27;impute_age&#x27;,\n",
       "                                                                         SimpleImputer(),\n",
       "                                                                         [2]),\n",
       "                                                                        (&#x27;impute_emb&#x27;,\n",
       "                                                                         SimpleImputer(strategy=&#x27;most_frequent&#x27;),\n",
       "                                                                         [6])])),\n",
       "                                       (&#x27;tf2&#x27;,\n",
       "                                        ColumnTransformer(remainder=&#x27;passthrough&#x27;,\n",
       "                                                          transformers=[(&#x27;ohe_sex_embarked&#x27;,\n",
       "                                                                         OneHotEncoder(handle_unknown=&#x27;ignore&#x27;,\n",
       "                                                                                       sparse=False),\n",
       "                                                                         [1,\n",
       "                                                                          6])])),\n",
       "                                       (&#x27;tf3&#x27;,\n",
       "                                        ColumnTransformer(transformers=[(&#x27;scalex&#x27;,\n",
       "                                                                         MinMaxScaler(),\n",
       "                                                                         slice(0, 10, None))])),\n",
       "                                       (&#x27;tf4&#x27;,\n",
       "                                        SelectKBest(k=8,\n",
       "                                                    score_func=&lt;function chi2 at 0x000002117B214790&gt;)),\n",
       "                                       (&#x27;tf5&#x27;, DecisionTreeClassifier())]),\n",
       "             param_grid={&#x27;tf5__max_depth&#x27;: [1, 2, 3, 4, 5, None]},\n",
       "             scoring=&#x27;accuracy&#x27;)</pre></div></div></div><div class=\"sk-parallel\"><div class=\"sk-parallel-item\"><div class=\"sk-item\"><div class=\"sk-serial\"><div class=\"sk-item\"><div class=\"sk-serial\"><div class=\"sk-item sk-dashed-wrapped\"><div class=\"sk-label-container\"><div class=\"sk-label sk-toggleable\"><input class=\"sk-toggleable__control sk-hidden--visually\" id=\"532b9e62-6fae-46ec-b271-55df4ac0ed7c\" type=\"checkbox\" ><label for=\"532b9e62-6fae-46ec-b271-55df4ac0ed7c\" class=\"sk-toggleable__label sk-toggleable__label-arrow\">tf1: ColumnTransformer</label><div class=\"sk-toggleable__content\"><pre>ColumnTransformer(remainder=&#x27;passthrough&#x27;,\n",
       "                  transformers=[(&#x27;impute_age&#x27;, SimpleImputer(), [2]),\n",
       "                                (&#x27;impute_emb&#x27;,\n",
       "                                 SimpleImputer(strategy=&#x27;most_frequent&#x27;),\n",
       "                                 [6])])</pre></div></div></div><div class=\"sk-parallel\"><div class=\"sk-parallel-item\"><div class=\"sk-item\"><div class=\"sk-label-container\"><div class=\"sk-label sk-toggleable\"><input class=\"sk-toggleable__control sk-hidden--visually\" id=\"cfda609b-558a-44f9-8166-bfb26e33a4a0\" type=\"checkbox\" ><label for=\"cfda609b-558a-44f9-8166-bfb26e33a4a0\" class=\"sk-toggleable__label sk-toggleable__label-arrow\">impute_age</label><div class=\"sk-toggleable__content\"><pre>[2]</pre></div></div></div><div class=\"sk-serial\"><div class=\"sk-item\"><div class=\"sk-estimator sk-toggleable\"><input class=\"sk-toggleable__control sk-hidden--visually\" id=\"28781522-503d-4383-9782-55853bb64879\" type=\"checkbox\" ><label for=\"28781522-503d-4383-9782-55853bb64879\" class=\"sk-toggleable__label sk-toggleable__label-arrow\">SimpleImputer</label><div class=\"sk-toggleable__content\"><pre>SimpleImputer()</pre></div></div></div></div></div></div><div class=\"sk-parallel-item\"><div class=\"sk-item\"><div class=\"sk-label-container\"><div class=\"sk-label sk-toggleable\"><input class=\"sk-toggleable__control sk-hidden--visually\" id=\"0b97748b-97a8-455a-862e-8b0c88c9b104\" type=\"checkbox\" ><label for=\"0b97748b-97a8-455a-862e-8b0c88c9b104\" class=\"sk-toggleable__label sk-toggleable__label-arrow\">impute_emb</label><div class=\"sk-toggleable__content\"><pre>[6]</pre></div></div></div><div class=\"sk-serial\"><div class=\"sk-item\"><div class=\"sk-estimator sk-toggleable\"><input class=\"sk-toggleable__control sk-hidden--visually\" id=\"05736d20-2562-48db-8349-52812a9f0b39\" type=\"checkbox\" ><label for=\"05736d20-2562-48db-8349-52812a9f0b39\" class=\"sk-toggleable__label sk-toggleable__label-arrow\">SimpleImputer</label><div class=\"sk-toggleable__content\"><pre>SimpleImputer(strategy=&#x27;most_frequent&#x27;)</pre></div></div></div></div></div></div><div class=\"sk-parallel-item\"><div class=\"sk-item\"><div class=\"sk-label-container\"><div class=\"sk-label sk-toggleable\"><input class=\"sk-toggleable__control sk-hidden--visually\" id=\"ea4fa334-1fef-4503-83af-b72c9ba5e1d0\" type=\"checkbox\" ><label for=\"ea4fa334-1fef-4503-83af-b72c9ba5e1d0\" class=\"sk-toggleable__label sk-toggleable__label-arrow\">remainder</label><div class=\"sk-toggleable__content\"><pre>[&#x27;Pclass&#x27;, &#x27;Sex&#x27;, &#x27;SibSp&#x27;, &#x27;Parch&#x27;, &#x27;Fare&#x27;]</pre></div></div></div><div class=\"sk-serial\"><div class=\"sk-item\"><div class=\"sk-estimator sk-toggleable\"><input class=\"sk-toggleable__control sk-hidden--visually\" id=\"361aa98c-e7ce-45ab-b57e-7b3984eeb217\" type=\"checkbox\" ><label for=\"361aa98c-e7ce-45ab-b57e-7b3984eeb217\" class=\"sk-toggleable__label sk-toggleable__label-arrow\">passthrough</label><div class=\"sk-toggleable__content\"><pre>passthrough</pre></div></div></div></div></div></div></div></div><div class=\"sk-item sk-dashed-wrapped\"><div class=\"sk-label-container\"><div class=\"sk-label sk-toggleable\"><input class=\"sk-toggleable__control sk-hidden--visually\" id=\"1c498403-260f-43fa-b8ab-53c5ae8cb36b\" type=\"checkbox\" ><label for=\"1c498403-260f-43fa-b8ab-53c5ae8cb36b\" class=\"sk-toggleable__label sk-toggleable__label-arrow\">tf2: ColumnTransformer</label><div class=\"sk-toggleable__content\"><pre>ColumnTransformer(remainder=&#x27;passthrough&#x27;,\n",
       "                  transformers=[(&#x27;ohe_sex_embarked&#x27;,\n",
       "                                 OneHotEncoder(handle_unknown=&#x27;ignore&#x27;,\n",
       "                                               sparse=False),\n",
       "                                 [1, 6])])</pre></div></div></div><div class=\"sk-parallel\"><div class=\"sk-parallel-item\"><div class=\"sk-item\"><div class=\"sk-label-container\"><div class=\"sk-label sk-toggleable\"><input class=\"sk-toggleable__control sk-hidden--visually\" id=\"535bdb87-0fa9-4a1e-aa6d-0d42ac8bbca4\" type=\"checkbox\" ><label for=\"535bdb87-0fa9-4a1e-aa6d-0d42ac8bbca4\" class=\"sk-toggleable__label sk-toggleable__label-arrow\">ohe_sex_embarked</label><div class=\"sk-toggleable__content\"><pre>[1, 6]</pre></div></div></div><div class=\"sk-serial\"><div class=\"sk-item\"><div class=\"sk-estimator sk-toggleable\"><input class=\"sk-toggleable__control sk-hidden--visually\" id=\"63b878ef-0fa2-4bbd-b7c3-938fd1deaee8\" type=\"checkbox\" ><label for=\"63b878ef-0fa2-4bbd-b7c3-938fd1deaee8\" class=\"sk-toggleable__label sk-toggleable__label-arrow\">OneHotEncoder</label><div class=\"sk-toggleable__content\"><pre>OneHotEncoder(handle_unknown=&#x27;ignore&#x27;, sparse=False)</pre></div></div></div></div></div></div><div class=\"sk-parallel-item\"><div class=\"sk-item\"><div class=\"sk-label-container\"><div class=\"sk-label sk-toggleable\"><input class=\"sk-toggleable__control sk-hidden--visually\" id=\"8b4abadd-69be-4320-8169-00308ed9eae3\" type=\"checkbox\" ><label for=\"8b4abadd-69be-4320-8169-00308ed9eae3\" class=\"sk-toggleable__label sk-toggleable__label-arrow\">remainder</label><div class=\"sk-toggleable__content\"><pre>[0, 2, 3, 4, 5]</pre></div></div></div><div class=\"sk-serial\"><div class=\"sk-item\"><div class=\"sk-estimator sk-toggleable\"><input class=\"sk-toggleable__control sk-hidden--visually\" id=\"f5f23c7b-3b79-4976-812f-8ea56d52ce84\" type=\"checkbox\" ><label for=\"f5f23c7b-3b79-4976-812f-8ea56d52ce84\" class=\"sk-toggleable__label sk-toggleable__label-arrow\">passthrough</label><div class=\"sk-toggleable__content\"><pre>passthrough</pre></div></div></div></div></div></div></div></div><div class=\"sk-item sk-dashed-wrapped\"><div class=\"sk-label-container\"><div class=\"sk-label sk-toggleable\"><input class=\"sk-toggleable__control sk-hidden--visually\" id=\"1963b27e-e9d0-4404-9fb6-32cf0793e36d\" type=\"checkbox\" ><label for=\"1963b27e-e9d0-4404-9fb6-32cf0793e36d\" class=\"sk-toggleable__label sk-toggleable__label-arrow\">tf3: ColumnTransformer</label><div class=\"sk-toggleable__content\"><pre>ColumnTransformer(transformers=[(&#x27;scalex&#x27;, MinMaxScaler(), slice(0, 10, None))])</pre></div></div></div><div class=\"sk-parallel\"><div class=\"sk-parallel-item\"><div class=\"sk-item\"><div class=\"sk-label-container\"><div class=\"sk-label sk-toggleable\"><input class=\"sk-toggleable__control sk-hidden--visually\" id=\"df30bc67-d807-450c-86e1-0ba7eea64051\" type=\"checkbox\" ><label for=\"df30bc67-d807-450c-86e1-0ba7eea64051\" class=\"sk-toggleable__label sk-toggleable__label-arrow\">scalex</label><div class=\"sk-toggleable__content\"><pre>slice(0, 10, None)</pre></div></div></div><div class=\"sk-serial\"><div class=\"sk-item\"><div class=\"sk-estimator sk-toggleable\"><input class=\"sk-toggleable__control sk-hidden--visually\" id=\"570d6087-6b6e-4efc-a3d7-f2e604262dc2\" type=\"checkbox\" ><label for=\"570d6087-6b6e-4efc-a3d7-f2e604262dc2\" class=\"sk-toggleable__label sk-toggleable__label-arrow\">MinMaxScaler</label><div class=\"sk-toggleable__content\"><pre>MinMaxScaler()</pre></div></div></div></div></div></div></div></div><div class=\"sk-item\"><div class=\"sk-estimator sk-toggleable\"><input class=\"sk-toggleable__control sk-hidden--visually\" id=\"329a8e62-08c1-4b49-a2d5-a87210db168c\" type=\"checkbox\" ><label for=\"329a8e62-08c1-4b49-a2d5-a87210db168c\" class=\"sk-toggleable__label sk-toggleable__label-arrow\">SelectKBest</label><div class=\"sk-toggleable__content\"><pre>SelectKBest(k=8, score_func=&lt;function chi2 at 0x000002117B214790&gt;)</pre></div></div></div><div class=\"sk-item\"><div class=\"sk-estimator sk-toggleable\"><input class=\"sk-toggleable__control sk-hidden--visually\" id=\"f97dd109-b9d4-47a6-afeb-885d0d2febbc\" type=\"checkbox\" ><label for=\"f97dd109-b9d4-47a6-afeb-885d0d2febbc\" class=\"sk-toggleable__label sk-toggleable__label-arrow\">DecisionTreeClassifier</label><div class=\"sk-toggleable__content\"><pre>DecisionTreeClassifier()</pre></div></div></div></div></div></div></div></div></div></div></div></div>"
      ],
      "text/plain": [
       "GridSearchCV(cv=5,\n",
       "             estimator=Pipeline(steps=[('tf1',\n",
       "                                        ColumnTransformer(remainder='passthrough',\n",
       "                                                          transformers=[('impute_age',\n",
       "                                                                         SimpleImputer(),\n",
       "                                                                         [2]),\n",
       "                                                                        ('impute_emb',\n",
       "                                                                         SimpleImputer(strategy='most_frequent'),\n",
       "                                                                         [6])])),\n",
       "                                       ('tf2',\n",
       "                                        ColumnTransformer(remainder='passthrough',\n",
       "                                                          transformers=[('ohe_sex_embarked',\n",
       "                                                                         OneHotEncoder(handle_unknown='ignore',\n",
       "                                                                                       sparse=False),\n",
       "                                                                         [1,\n",
       "                                                                          6])])),\n",
       "                                       ('tf3',\n",
       "                                        ColumnTransformer(transformers=[('scalex',\n",
       "                                                                         MinMaxScaler(),\n",
       "                                                                         slice(0, 10, None))])),\n",
       "                                       ('tf4',\n",
       "                                        SelectKBest(k=8,\n",
       "                                                    score_func=<function chi2 at 0x000002117B214790>)),\n",
       "                                       ('tf5', DecisionTreeClassifier())]),\n",
       "             param_grid={'tf5__max_depth': [1, 2, 3, 4, 5, None]},\n",
       "             scoring='accuracy')"
      ]
     },
     "execution_count": 134,
     "metadata": {},
     "output_type": "execute_result"
    }
   ],
   "source": [
    "grid = GridSearchCV(pipe,params,cv=5,scoring='accuracy')\n",
    "grid.fit(x_train,y_train)"
   ]
  },
  {
   "cell_type": "code",
   "execution_count": 135,
   "id": "27272210-c87b-4cde-b470-63fbabcec5e1",
   "metadata": {},
   "outputs": [
    {
     "data": {
      "text/plain": [
       "0.6441614906832298"
      ]
     },
     "execution_count": 135,
     "metadata": {},
     "output_type": "execute_result"
    }
   ],
   "source": [
    "grid.best_score_"
   ]
  },
  {
   "cell_type": "code",
   "execution_count": 136,
   "id": "ca2ac8af-5fc5-40d5-b068-6cdccda14840",
   "metadata": {},
   "outputs": [
    {
     "data": {
      "text/plain": [
       "{'tf5__max_depth': 1}"
      ]
     },
     "execution_count": 136,
     "metadata": {},
     "output_type": "execute_result"
    }
   ],
   "source": [
    "grid.best_params_"
   ]
  },
  {
   "cell_type": "markdown",
   "id": "048d532b-ec56-405d-8f48-09c4b86c1507",
   "metadata": {},
   "source": [
    "### Exporting the pipeline"
   ]
  },
  {
   "cell_type": "code",
   "execution_count": 137,
   "id": "feafa7e9-447b-4f82-8e9f-f8e5ed1f0c19",
   "metadata": {},
   "outputs": [],
   "source": [
    "import pickle"
   ]
  },
  {
   "cell_type": "code",
   "execution_count": 138,
   "id": "84594ca4-1af3-4d59-b1e2-bfe2c6a6c7d3",
   "metadata": {},
   "outputs": [],
   "source": [
    "pickle.dump(pipe,open('pipe.pkl','wb'))"
   ]
  },
  {
   "cell_type": "code",
   "execution_count": null,
   "id": "a583b8f9-6a12-477d-a6a0-0e1d172333ec",
   "metadata": {},
   "outputs": [],
   "source": []
  }
 ],
 "metadata": {
  "kernelspec": {
   "display_name": "Python 3 (ipykernel)",
   "language": "python",
   "name": "python3"
  },
  "language_info": {
   "codemirror_mode": {
    "name": "ipython",
    "version": 3
   },
   "file_extension": ".py",
   "mimetype": "text/x-python",
   "name": "python",
   "nbconvert_exporter": "python",
   "pygments_lexer": "ipython3",
   "version": "3.9.13"
  }
 },
 "nbformat": 4,
 "nbformat_minor": 5
}
