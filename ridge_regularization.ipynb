{
 "cells": [
  {
   "cell_type": "code",
   "execution_count": 124,
   "id": "da373164-3ee2-4079-8890-51fd71700144",
   "metadata": {},
   "outputs": [],
   "source": [
    "import numpy as np\n",
    "from sklearn.metrics import r2_score,mean_squared_error,accuracy_score\n",
    "from sklearn.model_selection import train_test_split,cross_val_score,GridSearchCV\n",
    "from sklearn.linear_model import LinearRegression, Ridge , SGDRegressor\n",
    "from sklearn.preprocessing import PolynomialFeatures\n",
    "from sklearn.datasets import load_diabetes\n",
    "import matplotlib.pyplot as plt\n",
    "from sklearn.pipeline import Pipeline"
   ]
  },
  {
   "cell_type": "code",
   "execution_count": 74,
   "id": "ce5303ce-b0b1-47a7-bd57-c360fe6ef702",
   "metadata": {},
   "outputs": [],
   "source": [
    "x,y = load_diabetes(return_X_y=True)"
   ]
  },
  {
   "cell_type": "code",
   "execution_count": 75,
   "id": "7000cc51-54f5-494f-a7a9-18168512a313",
   "metadata": {},
   "outputs": [
    {
     "data": {
      "text/plain": [
       "((442, 10), (442,))"
      ]
     },
     "execution_count": 75,
     "metadata": {},
     "output_type": "execute_result"
    }
   ],
   "source": [
    "x.shape, y.shape"
   ]
  },
  {
   "cell_type": "code",
   "execution_count": 120,
   "id": "815664de-f528-4cd1-aa6f-6ee3d16c391d",
   "metadata": {},
   "outputs": [],
   "source": [
    "x_train,x_test,y_train,y_test = train_test_split(x,y,test_size=0.2,random_state=42)"
   ]
  },
  {
   "cell_type": "code",
   "execution_count": 121,
   "id": "8ff9e835-b87a-4b2d-a01a-b1d54690805c",
   "metadata": {},
   "outputs": [
    {
     "name": "stdout",
     "output_type": "stream",
     "text": [
      "r2_score =  0.452606602161738\n",
      "RMSE =  53.8532569849144\n"
     ]
    }
   ],
   "source": [
    "model = LinearRegression()\n",
    "model.fit(x_train,y_train)\n",
    "y_pred = model.predict(x_test)\n",
    "print('r2_score = ',r2_score(y_test,y_pred))\n",
    "print('RMSE = ', np.sqrt(mean_squared_error(y_test,y_pred)))"
   ]
  },
  {
   "cell_type": "code",
   "execution_count": 122,
   "id": "06a69960-d18b-48f5-9628-279a73d1b712",
   "metadata": {},
   "outputs": [
    {
     "data": {
      "text/plain": [
       "0.3932188979202961"
      ]
     },
     "execution_count": 122,
     "metadata": {},
     "output_type": "execute_result"
    }
   ],
   "source": [
    "cross_val = cross_val_score(model,x_train,y_train,cv=10)\n",
    "cross_val.mean()"
   ]
  },
  {
   "cell_type": "code",
   "execution_count": 123,
   "id": "d15d203d-f6c0-4003-ab02-7ed3fb916bf5",
   "metadata": {},
   "outputs": [
    {
     "data": {
      "text/plain": [
       "(array([  37.90031426, -241.96624835,  542.42575342,  347.70830529,\n",
       "        -931.46126093,  518.04405547,  163.40353476,  275.31003837,\n",
       "         736.18909839,   48.67112488]),\n",
       " 151.3456553477407)"
      ]
     },
     "execution_count": 123,
     "metadata": {},
     "output_type": "execute_result"
    }
   ],
   "source": [
    "model.coef_ , model.intercept_"
   ]
  },
  {
   "cell_type": "markdown",
   "id": "01fdf46f-efb9-4a39-9caa-8966f6f71fa7",
   "metadata": {},
   "source": [
    "### Use Stichastic Gradient Descent regression instead of Linear Regression\n",
    "Linear Regression uses OLS(ordinary least square) method to calculate coeffs and intercept using matrix inversion in their formulas\n",
    "coef Beta or weights for predictors(X) = np.linalg.inv(X.T.dot(X)).dot(X.T.dot(Y))\n",
    "                                      = inverse(Xt.X).(Xt.Y)\n",
    "matrix inversion is highly time and space complexity O(n^3)\n",
    "So gradient descent techniques uses approximations iteratively to get to the same result or minimizes the loss function"
   ]
  },
  {
   "cell_type": "code",
   "execution_count": 126,
   "id": "e141711a-cd85-4df0-ab1a-c7e6453a7546",
   "metadata": {},
   "outputs": [],
   "source": [
    "from sklearn.linear_model import SGDRegressor"
   ]
  },
  {
   "cell_type": "code",
   "execution_count": 142,
   "id": "0307d72d-3d56-4340-ba2b-00be32a4cf48",
   "metadata": {},
   "outputs": [
    {
     "name": "stdout",
     "output_type": "stream",
     "text": [
      "r2_score =  0.4550820551741954\n",
      "RMSE =  53.73134990093688\n"
     ]
    },
    {
     "data": {
      "text/plain": [
       "(array([  41.31136362, -139.50104205,  409.20298011,  271.51418235,\n",
       "         -35.89414942,  -73.19664184, -190.65739502,  137.31942548,\n",
       "         301.4672822 ,  120.79589943]),\n",
       " array([152.60623529]))"
      ]
     },
     "execution_count": 142,
     "metadata": {},
     "output_type": "execute_result"
    }
   ],
   "source": [
    "model = SGDRegressor(penalty='l2',alpha=0.001,learning_rate='constant',eta0=0.3,max_iter=150)\n",
    "model.fit(x_train,y_train)\n",
    "y_pred = model.predict(x_test)\n",
    "print('r2_score = ',r2_score(y_test,y_pred))\n",
    "print('RMSE = ', np.sqrt(mean_squared_error(y_test,y_pred)))\n",
    "model.coef_ , model.intercept_"
   ]
  },
  {
   "cell_type": "markdown",
   "id": "afcc7124-4d84-4fae-b7ef-9657ba6685f7",
   "metadata": {},
   "source": [
    "### Use sklearn Ridge instead of LinearRegression"
   ]
  },
  {
   "cell_type": "code",
   "execution_count": 116,
   "id": "e5e448bc-529c-4633-922f-8309d7cbdb7b",
   "metadata": {},
   "outputs": [],
   "source": [
    "from sklearn.linear_model import Ridge"
   ]
  },
  {
   "cell_type": "markdown",
   "id": "87a67f3f-3882-4dfe-985e-4ec476281a3c",
   "metadata": {},
   "source": [
    " ### alpha is the hyperparameter lambda which minimizes loss function by shrinking the valye of coeff estimate (betas) towards 0"
   ]
  },
  {
   "cell_type": "code",
   "execution_count": 118,
   "id": "66dd7804-a836-4d43-8eb0-0d52477a1e04",
   "metadata": {},
   "outputs": [
    {
     "name": "stdout",
     "output_type": "stream",
     "text": [
      "r2_score after L2 norm=  0.46085316782973296\n",
      "RMSE after L2 norm =  53.446063761235834\n"
     ]
    },
    {
     "data": {
      "text/plain": [
       "(array([  42.85374471, -205.49571833,  505.08633402,  317.09877365,\n",
       "        -108.49829825,  -86.2387599 , -190.36567438,  151.7067317 ,\n",
       "         392.28728164,   79.90836219]),\n",
       " 151.4586024338539)"
      ]
     },
     "execution_count": 118,
     "metadata": {},
     "output_type": "execute_result"
    }
   ],
   "source": [
    "model = Ridge(alpha=0.1)\n",
    "model.fit(x_train,y_train)\n",
    "y_pred1 = model.predict(x_test)\n",
    "print('r2_score after L2 norm= ',r2_score(y_test,y_pred1))\n",
    "print('RMSE after L2 norm = ', np.sqrt(mean_squared_error(y_test,y_pred1)))\n",
    "model.coef_ , model.intercept_"
   ]
  },
  {
   "cell_type": "markdown",
   "id": "565c6092-eb91-474c-9604-93118b5afab8",
   "metadata": {},
   "source": [
    "### Use ridge regression with Gradient descent\n",
    "normal ridge regression uses matrix inversion in it's formula. complexity of matrix inversion is O(n^3)\n",
    "gradient descent is approximation technique to find coefficient estimates and intercept"
   ]
  },
  {
   "cell_type": "code",
   "execution_count": 119,
   "id": "5269bd69-db67-406a-86da-a1c2be39564a",
   "metadata": {},
   "outputs": [
    {
     "name": "stdout",
     "output_type": "stream",
     "text": [
      "r2_score after L2 norm with GD=  0.4608077152906459\n",
      "RMSE after L2 norm with GD =  53.44831658733066\n"
     ]
    },
    {
     "data": {
      "text/plain": [
       "(array([  42.80138878, -205.35491384,  505.40715919,  317.05363419,\n",
       "        -108.40557153,  -86.64138479, -189.81834342,  152.41422522,\n",
       "         391.90723493,   79.90088916]),\n",
       " 151.4586265862303)"
      ]
     },
     "execution_count": 119,
     "metadata": {},
     "output_type": "execute_result"
    }
   ],
   "source": [
    "rig_gd = Ridge(alpha=0.1,solver='sparse_cg')\n",
    "rig_gd.fit(x_train,y_train)\n",
    "y_pred = rig_gd.predict(x_test)\n",
    "print('r2_score after L2 norm with GD= ',r2_score(y_test,y_pred))\n",
    "print('RMSE after L2 norm with GD = ', np.sqrt(mean_squared_error(y_test,y_pred)))\n",
    "rig_gd.coef_ , rig_gd.intercept_"
   ]
  },
  {
   "cell_type": "markdown",
   "id": "d3de2c9e-5cf3-490e-8eef-7879dcf61c2b",
   "metadata": {},
   "source": [
    "### Create ridge class replicating sklearn functionality"
   ]
  },
  {
   "cell_type": "code",
   "execution_count": 106,
   "id": "9c143a24-622b-41bc-971d-2cdbaae19aa4",
   "metadata": {},
   "outputs": [],
   "source": [
    "class RidgeRegressor:\n",
    "    def __init__(self,alpha=0.1):\n",
    "        self.alpha = alpha\n",
    "        self.coef_ = None\n",
    "        self.intercept_ = None\n",
    "        \n",
    "    def fit(self,x_train,y_train):\n",
    "        x_train = np.insert(x_train,0,1,axis=1)\n",
    "        I = np.identity(x_train.shape[1]) #no. of columns in x\n",
    "        #make 1st element of I as 0 as used in sklearn implementation\n",
    "        I[0][0] = 0\n",
    "        W = (np.linalg.inv(np.dot(x_train.T,x_train) + self.alpha*I)).dot(np.dot(x_train.T,y_train))\n",
    "        self.intercept_ = W[0]\n",
    "        self.coef_ = W[1:]\n",
    "        \n",
    "    def predict(self,x_test):\n",
    "        return np.dot(x_test,self.coef_) + self.intercept_"
   ]
  },
  {
   "cell_type": "code",
   "execution_count": 107,
   "id": "6ad9e9ff-21d4-4fe0-b598-7993fb10e128",
   "metadata": {},
   "outputs": [],
   "source": [
    "ridge = RidgeRegressor(alpha=0.5)\n",
    "ridge.fit(x_train,y_train)"
   ]
  },
  {
   "cell_type": "code",
   "execution_count": 108,
   "id": "104a966a-2f80-4c80-a5ac-b5f547c22c85",
   "metadata": {},
   "outputs": [
    {
     "name": "stdout",
     "output_type": "stream",
     "text": [
      "r2_score after L2 norm=  0.44939776179516744\n",
      "RMSE after L2 norm =  54.010871230541056\n"
     ]
    }
   ],
   "source": [
    "y_pred1 = ridge.predict(x_test)\n",
    "print('r2_score after L2 norm= ',r2_score(y_test,y_pred1))\n",
    "print('RMSE after L2 norm = ', np.sqrt(mean_squared_error(y_test,y_pred1)))"
   ]
  },
  {
   "cell_type": "code",
   "execution_count": 109,
   "id": "a9f154e2-8cf2-496c-8c59-fddce339cf84",
   "metadata": {},
   "outputs": [
    {
     "data": {
      "text/plain": [
       "array([  45.64198359, -123.52367534,  376.15029923,  248.41398542,\n",
       "        -26.89914062,  -59.71740905, -172.54986164,  131.89575774,\n",
       "        289.15947557,  112.14623689])"
      ]
     },
     "execution_count": 109,
     "metadata": {},
     "output_type": "execute_result"
    }
   ],
   "source": [
    "ridge.coef_"
   ]
  },
  {
   "cell_type": "code",
   "execution_count": 110,
   "id": "fcce5725-ca74-4926-b913-a20e1feda5a8",
   "metadata": {},
   "outputs": [
    {
     "data": {
      "text/plain": [
       "151.900529209756"
      ]
     },
     "execution_count": 110,
     "metadata": {},
     "output_type": "execute_result"
    }
   ],
   "source": [
    "ridge.intercept_"
   ]
  },
  {
   "cell_type": "markdown",
   "id": "75e5f57e-baac-4bd7-b1f2-e3f317664c63",
   "metadata": {},
   "source": [
    "### create pipeline with ridge regression instead of linear with different values of lambda"
   ]
  },
  {
   "cell_type": "code",
   "execution_count": 32,
   "id": "c9893f12-76f1-4eb8-ba82-386422b02bd8",
   "metadata": {},
   "outputs": [
    {
     "data": {
      "text/plain": [
       "[<matplotlib.lines.Line2D at 0x21751cdb9a0>]"
      ]
     },
     "execution_count": 32,
     "metadata": {},
     "output_type": "execute_result"
    },
    {
     "data": {
      "image/png": "[encoded data removed]",
      "text/plain": [
       "<Figure size 640x480 with 1 Axes>"
      ]
     },
     "metadata": {},
     "output_type": "display_data"
    }
   ],
   "source": [
    "x = 5 * np.random.randn(200,1) - 1 #randn takes a sample of 200 numbers from normal distribution\n",
    "#y = 0.9x2 + 0.8x + 2 + random noise -  polynomial equation\n",
    "y = 0.9*x*x + 0.8*x  + 1 + 15*np.random.randn(200,1)\n",
    "plt.plot(x,y,'.')"
   ]
  },
  {
   "cell_type": "code",
   "execution_count": 65,
   "id": "add915eb-baa9-41bd-a86f-b10bc5eacc35",
   "metadata": {},
   "outputs": [
    {
     "data": {
      "text/plain": [
       "0.82499523100458"
      ]
     },
     "execution_count": 65,
     "metadata": {},
     "output_type": "execute_result"
    }
   ],
   "source": [
    "pipe = Pipeline([('poly',PolynomialFeatures(degree=2)),\n",
    "                 ('L2',Ridge(alpha=1000))])\n",
    "pipe.fit(x,y)\n",
    "y_pred = pipe.predict(x)\n",
    "cross_val = cross_val_score(pipe,x,y,cv=10)\n",
    "cross_val.mean()"
   ]
  },
  {
   "cell_type": "code",
   "execution_count": 50,
   "id": "a407c8b5-5cb6-476e-b16e-d13aa8050edb",
   "metadata": {},
   "outputs": [
    {
     "data": {
      "text/plain": [
       "{'alpha': 0.01,\n",
       " 'copy_X': True,\n",
       " 'fit_intercept': True,\n",
       " 'max_iter': None,\n",
       " 'normalize': 'deprecated',\n",
       " 'positive': False,\n",
       " 'random_state': None,\n",
       " 'solver': 'auto',\n",
       " 'tol': 0.001}"
      ]
     },
     "execution_count": 50,
     "metadata": {},
     "output_type": "execute_result"
    }
   ],
   "source": [
    "pipe.named_steps['L2'].get_params()"
   ]
  },
  {
   "cell_type": "code",
   "execution_count": 66,
   "id": "a75467fa-71e3-41af-bac3-2eee8412e015",
   "metadata": {},
   "outputs": [
    {
     "data": {
      "text/plain": [
       "array([[0.        , 0.61252929, 0.89133114]])"
      ]
     },
     "execution_count": 66,
     "metadata": {},
     "output_type": "execute_result"
    }
   ],
   "source": [
    "pipe.named_steps['L2'].coef_"
   ]
  },
  {
   "cell_type": "code",
   "execution_count": 59,
   "id": "accd36cb-1900-41c1-93ec-6e82fbcd5dc2",
   "metadata": {},
   "outputs": [
    {
     "data": {
      "text/plain": [
       "array([1.55455999])"
      ]
     },
     "execution_count": 59,
     "metadata": {},
     "output_type": "execute_result"
    }
   ],
   "source": [
    "pipe.named_steps['L2'].intercept_"
   ]
  },
  {
   "cell_type": "code",
   "execution_count": null,
   "id": "8e73ff55-9b2b-490c-8006-0b1cc7e3471c",
   "metadata": {},
   "outputs": [],
   "source": [
    "params =  { 'poly__degree':[3,10,16],\n",
    "              'L2__alpha':[0,0.1,0.001,100]\n",
    "            }\n",
    "grid = GridSearchCV(pipe,params,cv=5)\n",
    "grid.fit(x,y)\n",
    "y_pred = grid.predict(x)\n",
    "print('best score = ',grid.best_score_)\n",
    "print('best param = ',grid.best_params_)\n"
   ]
  },
  {
   "cell_type": "code",
   "execution_count": 62,
   "id": "aba27f11-6772-4900-99ae-20299738c07c",
   "metadata": {},
   "outputs": [
    {
     "data": {
      "text/plain": [
       "array([[0.        , 0.77916036, 0.90413394]])"
      ]
     },
     "execution_count": 62,
     "metadata": {},
     "output_type": "execute_result"
    }
   ],
   "source": [
    "pipe.named_steps['L2'].coef_ #as we increase value of lambda , overfitting starts taking place.\n",
    "#our model gets simpler and simpler being penalized by factor of lambda (alpha) for it's flexibility"
   ]
  },
  {
   "cell_type": "code",
   "execution_count": null,
   "id": "a8ea2eff-22d5-434b-bef7-d90db6fe8168",
   "metadata": {},
   "outputs": [],
   "source": []
  }
 ],
 "metadata": {
  "kernelspec": {
   "display_name": "Python 3 (ipykernel)",
   "language": "python",
   "name": "python3"
  },
  "language_info": {
   "codemirror_mode": {
    "name": "ipython",
    "version": 3
   },
   "file_extension": ".py",
   "mimetype": "text/x-python",
   "name": "python",
   "nbconvert_exporter": "python",
   "pygments_lexer": "ipython3",
   "version": "3.9.13"
  }
 },
 "nbformat": 4,
 "nbformat_minor": 5
}
