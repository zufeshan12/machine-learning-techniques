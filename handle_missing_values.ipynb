{
 "cells": [
  {
   "cell_type": "code",
   "execution_count": 138,
   "id": "4102d517-894b-4372-aa85-97335323bb63",
   "metadata": {},
   "outputs": [],
   "source": [
    "import numpy as np\n",
    "import pandas as pd\n",
    "from sklearn.experimental import enable_iterative_imputer\n",
    "from sklearn.impute import SimpleImputer,MissingIndicator,KNNImputer,IterativeImputer\n",
    "import matplotlib.pyplot as plt\n",
    "import numpy as np\n",
    "import pandas as pd\n",
    "import matplotlib.pyplot as plt\n",
    "from sklearn.model_selection import train_test_split,cross_val_score,GridSearchCV\n",
    "from sklearn.compose import ColumnTransformer\n",
    "from sklearn.preprocessing import FunctionTransformer,OneHotEncoder\n",
    "from sklearn.linear_model import LogisticRegression\n",
    "from sklearn.metrics import accuracy_score\n",
    "from sklearn.pipeline import Pipeline\n",
    "from sklearn import set_config\n",
    "from scipy import stats\n",
    "import seaborn as sns"
   ]
  },
  {
   "cell_type": "code",
   "execution_count": 59,
   "id": "104e101e-c339-4069-8f92-ddcafb3d0fcb",
   "metadata": {},
   "outputs": [],
   "source": [
    "df = pd.read_csv('titanic.csv')#,usecols=['Age','Survived'])"
   ]
  },
  {
   "cell_type": "code",
   "execution_count": 36,
   "id": "0eeb70a1-1c82-4b8d-91d5-7d66acd19d95",
   "metadata": {},
   "outputs": [
    {
     "data": {
      "text/html": [
       "<div>\n",
       "<style scoped>\n",
       "    .dataframe tbody tr th:only-of-type {\n",
       "        vertical-align: middle;\n",
       "    }\n",
       "\n",
       "    .dataframe tbody tr th {\n",
       "        vertical-align: top;\n",
       "    }\n",
       "\n",
       "    .dataframe thead th {\n",
       "        text-align: right;\n",
       "    }\n",
       "</style>\n",
       "<table border=\"1\" class=\"dataframe\">\n",
       "  <thead>\n",
       "    <tr style=\"text-align: right;\">\n",
       "      <th></th>\n",
       "      <th>PassengerId</th>\n",
       "      <th>Survived</th>\n",
       "      <th>Pclass</th>\n",
       "      <th>Name</th>\n",
       "      <th>Sex</th>\n",
       "      <th>Age</th>\n",
       "      <th>SibSp</th>\n",
       "      <th>Parch</th>\n",
       "      <th>Ticket</th>\n",
       "      <th>Fare</th>\n",
       "      <th>Cabin</th>\n",
       "      <th>Embarked</th>\n",
       "    </tr>\n",
       "  </thead>\n",
       "  <tbody>\n",
       "    <tr>\n",
       "      <th>255</th>\n",
       "      <td>635</td>\n",
       "      <td>0</td>\n",
       "      <td>3</td>\n",
       "      <td>Skoog, Miss. Mabel</td>\n",
       "      <td>female</td>\n",
       "      <td>9.0</td>\n",
       "      <td>3</td>\n",
       "      <td>2</td>\n",
       "      <td>347088</td>\n",
       "      <td>27.9000</td>\n",
       "      <td>NaN</td>\n",
       "      <td>S</td>\n",
       "    </tr>\n",
       "    <tr>\n",
       "      <th>171</th>\n",
       "      <td>603</td>\n",
       "      <td>0</td>\n",
       "      <td>1</td>\n",
       "      <td>Harrington, Mr. Charles H</td>\n",
       "      <td>male</td>\n",
       "      <td>NaN</td>\n",
       "      <td>0</td>\n",
       "      <td>0</td>\n",
       "      <td>113796</td>\n",
       "      <td>42.4000</td>\n",
       "      <td>NaN</td>\n",
       "      <td>S</td>\n",
       "    </tr>\n",
       "    <tr>\n",
       "      <th>295</th>\n",
       "      <td>21</td>\n",
       "      <td>0</td>\n",
       "      <td>2</td>\n",
       "      <td>Fynney, Mr. Joseph J</td>\n",
       "      <td>male</td>\n",
       "      <td>35.0</td>\n",
       "      <td>0</td>\n",
       "      <td>0</td>\n",
       "      <td>239865</td>\n",
       "      <td>26.0000</td>\n",
       "      <td>NaN</td>\n",
       "      <td>S</td>\n",
       "    </tr>\n",
       "    <tr>\n",
       "      <th>461</th>\n",
       "      <td>707</td>\n",
       "      <td>1</td>\n",
       "      <td>2</td>\n",
       "      <td>Kelly, Mrs. Florence \"Fannie\"</td>\n",
       "      <td>female</td>\n",
       "      <td>45.0</td>\n",
       "      <td>0</td>\n",
       "      <td>0</td>\n",
       "      <td>223596</td>\n",
       "      <td>13.5000</td>\n",
       "      <td>NaN</td>\n",
       "      <td>S</td>\n",
       "    </tr>\n",
       "    <tr>\n",
       "      <th>158</th>\n",
       "      <td>572</td>\n",
       "      <td>1</td>\n",
       "      <td>1</td>\n",
       "      <td>Appleton, Mrs. Edward Dale (Charlotte Lamson)</td>\n",
       "      <td>female</td>\n",
       "      <td>53.0</td>\n",
       "      <td>2</td>\n",
       "      <td>0</td>\n",
       "      <td>11769</td>\n",
       "      <td>51.4792</td>\n",
       "      <td>C101</td>\n",
       "      <td>S</td>\n",
       "    </tr>\n",
       "  </tbody>\n",
       "</table>\n",
       "</div>"
      ],
      "text/plain": [
       "     PassengerId  Survived  Pclass  \\\n",
       "255          635         0       3   \n",
       "171          603         0       1   \n",
       "295           21         0       2   \n",
       "461          707         1       2   \n",
       "158          572         1       1   \n",
       "\n",
       "                                              Name     Sex   Age  SibSp  \\\n",
       "255                             Skoog, Miss. Mabel  female   9.0      3   \n",
       "171                      Harrington, Mr. Charles H    male   NaN      0   \n",
       "295                           Fynney, Mr. Joseph J    male  35.0      0   \n",
       "461                  Kelly, Mrs. Florence \"Fannie\"  female  45.0      0   \n",
       "158  Appleton, Mrs. Edward Dale (Charlotte Lamson)  female  53.0      2   \n",
       "\n",
       "     Parch  Ticket     Fare Cabin Embarked  \n",
       "255      2  347088  27.9000   NaN        S  \n",
       "171      0  113796  42.4000   NaN        S  \n",
       "295      0  239865  26.0000   NaN        S  \n",
       "461      0  223596  13.5000   NaN        S  \n",
       "158      0   11769  51.4792  C101        S  "
      ]
     },
     "execution_count": 36,
     "metadata": {},
     "output_type": "execute_result"
    }
   ],
   "source": [
    "df.sample(5)"
   ]
  },
  {
   "cell_type": "code",
   "execution_count": 4,
   "id": "c3ae8331-10e1-4e59-9b42-be300b2c46d6",
   "metadata": {},
   "outputs": [],
   "source": [
    "df.isnull().sum()"
   ]
  },
  {
   "cell_type": "code",
   "execution_count": 60,
   "id": "b69613a3-0971-4f81-8aee-f13daf01efd2",
   "metadata": {},
   "outputs": [],
   "source": [
    "df.drop(columns = ['PassengerId','Name','Ticket','Cabin'],inplace=True)"
   ]
  },
  {
   "cell_type": "code",
   "execution_count": 38,
   "id": "b178220f-0629-4031-86b2-19a6b6adf89b",
   "metadata": {},
   "outputs": [
    {
     "data": {
      "text/plain": [
       "Survived     0.000000\n",
       "Pclass       0.000000\n",
       "Sex          0.000000\n",
       "Age         19.865320\n",
       "SibSp        0.000000\n",
       "Parch        0.000000\n",
       "Fare         0.000000\n",
       "Embarked     0.224467\n",
       "dtype: float64"
      ]
     },
     "execution_count": 38,
     "metadata": {},
     "output_type": "execute_result"
    }
   ],
   "source": [
    "df.isnull().mean()*100 #approx 20% values missing in age, so can't apply CCA(complete case analysis)"
   ]
  },
  {
   "cell_type": "code",
   "execution_count": 61,
   "id": "3ee61c49-55e4-4a52-a00c-b5e873f6a479",
   "metadata": {},
   "outputs": [],
   "source": [
    "df['Age_mean'] = df['Age'].fillna(df['Age'].mean())"
   ]
  },
  {
   "cell_type": "code",
   "execution_count": 62,
   "id": "b193ea05-88ce-40c0-9b52-f1c4f2c4325e",
   "metadata": {},
   "outputs": [],
   "source": [
    "df['Age_median'] = df['Age'].fillna(df['Age'].median())"
   ]
  },
  {
   "cell_type": "code",
   "execution_count": 43,
   "id": "d55882f2-059f-4001-81aa-142c4175a5a8",
   "metadata": {},
   "outputs": [
    {
     "data": {
      "text/plain": [
       "<AxesSubplot:>"
      ]
     },
     "execution_count": 43,
     "metadata": {},
     "output_type": "execute_result"
    }
   ],
   "source": [
    "df[['Age','Age_mean','Age_median']].boxplot() #outliers have been introduced in data, IQR has also shrunk"
   ]
  },
  {
   "cell_type": "code",
   "execution_count": 16,
   "id": "e81d9daa-0612-4417-8598-a656dc5371f2",
   "metadata": {},
   "outputs": [
    {
     "data": {
      "image/png": "[encoded data removed]",
      "text/plain": [
       "<Figure size 640x480 with 1 Axes>"
      ]
     },
     "metadata": {},
     "output_type": "display_data"
    }
   ],
   "source": [
    "df[['Age','Age_mean','Age_median']].plot(kind='kde') #variance introduced in data,coz of which distribution shape has changed.Check cov and corr among different features\n",
    "plt.show()"
   ]
  },
  {
   "cell_type": "code",
   "execution_count": 63,
   "id": "97166634-d609-49f6-bb01-0897437d0fa9",
   "metadata": {},
   "outputs": [
    {
     "name": "stderr",
     "output_type": "stream",
     "text": [
      "C:\\Users\\arsal\\AppData\\Local\\Temp\\ipykernel_33640\\3821325775.py:2: SettingWithCopyWarning: \n",
      "A value is trying to be set on a copy of a slice from a DataFrame\n",
      "\n",
      "See the caveats in the documentation: https://pandas.pydata.org/pandas-docs/stable/user_guide/indexing.html#returning-a-view-versus-a-copy\n",
      "  df['Age_random'][df['Age_random'].isnull()] =df['Age'].dropna().sample(df['Age'].isna().sum()).values #sample of 177 values from age is drawn and filled in place of NA of age_random using subscript\n"
     ]
    }
   ],
   "source": [
    "df['Age_random'] = df['Age']\n",
    "df['Age_random'][df['Age_random'].isnull()] =df['Age'].dropna().sample(df['Age'].isna().sum()).values #sample of 177 values from age is drawn and filled in place of NA of age_random using subscript"
   ]
  },
  {
   "cell_type": "code",
   "execution_count": 64,
   "id": "2a59dfb1-3358-418c-aaba-183834e41673",
   "metadata": {},
   "outputs": [
    {
     "data": {
      "text/html": [
       "<div>\n",
       "<style scoped>\n",
       "    .dataframe tbody tr th:only-of-type {\n",
       "        vertical-align: middle;\n",
       "    }\n",
       "\n",
       "    .dataframe tbody tr th {\n",
       "        vertical-align: top;\n",
       "    }\n",
       "\n",
       "    .dataframe thead th {\n",
       "        text-align: right;\n",
       "    }\n",
       "</style>\n",
       "<table border=\"1\" class=\"dataframe\">\n",
       "  <thead>\n",
       "    <tr style=\"text-align: right;\">\n",
       "      <th></th>\n",
       "      <th>Survived</th>\n",
       "      <th>Pclass</th>\n",
       "      <th>Sex</th>\n",
       "      <th>Age</th>\n",
       "      <th>SibSp</th>\n",
       "      <th>Parch</th>\n",
       "      <th>Fare</th>\n",
       "      <th>Embarked</th>\n",
       "      <th>Age_mean</th>\n",
       "      <th>Age_median</th>\n",
       "      <th>Age_random</th>\n",
       "    </tr>\n",
       "  </thead>\n",
       "  <tbody>\n",
       "    <tr>\n",
       "      <th>886</th>\n",
       "      <td>0</td>\n",
       "      <td>2</td>\n",
       "      <td>male</td>\n",
       "      <td>NaN</td>\n",
       "      <td>0</td>\n",
       "      <td>0</td>\n",
       "      <td>0.0</td>\n",
       "      <td>S</td>\n",
       "      <td>29.699118</td>\n",
       "      <td>28.0</td>\n",
       "      <td>6.0</td>\n",
       "    </tr>\n",
       "    <tr>\n",
       "      <th>887</th>\n",
       "      <td>0</td>\n",
       "      <td>2</td>\n",
       "      <td>male</td>\n",
       "      <td>NaN</td>\n",
       "      <td>0</td>\n",
       "      <td>0</td>\n",
       "      <td>0.0</td>\n",
       "      <td>S</td>\n",
       "      <td>29.699118</td>\n",
       "      <td>28.0</td>\n",
       "      <td>29.0</td>\n",
       "    </tr>\n",
       "    <tr>\n",
       "      <th>888</th>\n",
       "      <td>0</td>\n",
       "      <td>1</td>\n",
       "      <td>male</td>\n",
       "      <td>39.0</td>\n",
       "      <td>0</td>\n",
       "      <td>0</td>\n",
       "      <td>0.0</td>\n",
       "      <td>S</td>\n",
       "      <td>39.000000</td>\n",
       "      <td>39.0</td>\n",
       "      <td>39.0</td>\n",
       "    </tr>\n",
       "    <tr>\n",
       "      <th>889</th>\n",
       "      <td>0</td>\n",
       "      <td>1</td>\n",
       "      <td>male</td>\n",
       "      <td>NaN</td>\n",
       "      <td>0</td>\n",
       "      <td>0</td>\n",
       "      <td>0.0</td>\n",
       "      <td>S</td>\n",
       "      <td>29.699118</td>\n",
       "      <td>28.0</td>\n",
       "      <td>8.0</td>\n",
       "    </tr>\n",
       "    <tr>\n",
       "      <th>890</th>\n",
       "      <td>0</td>\n",
       "      <td>1</td>\n",
       "      <td>male</td>\n",
       "      <td>38.0</td>\n",
       "      <td>0</td>\n",
       "      <td>0</td>\n",
       "      <td>0.0</td>\n",
       "      <td>S</td>\n",
       "      <td>38.000000</td>\n",
       "      <td>38.0</td>\n",
       "      <td>38.0</td>\n",
       "    </tr>\n",
       "  </tbody>\n",
       "</table>\n",
       "</div>"
      ],
      "text/plain": [
       "     Survived  Pclass   Sex   Age  SibSp  Parch  Fare Embarked   Age_mean  \\\n",
       "886         0       2  male   NaN      0      0   0.0        S  29.699118   \n",
       "887         0       2  male   NaN      0      0   0.0        S  29.699118   \n",
       "888         0       1  male  39.0      0      0   0.0        S  39.000000   \n",
       "889         0       1  male   NaN      0      0   0.0        S  29.699118   \n",
       "890         0       1  male  38.0      0      0   0.0        S  38.000000   \n",
       "\n",
       "     Age_median  Age_random  \n",
       "886        28.0         6.0  \n",
       "887        28.0        29.0  \n",
       "888        39.0        39.0  \n",
       "889        28.0         8.0  \n",
       "890        38.0        38.0  "
      ]
     },
     "execution_count": 64,
     "metadata": {},
     "output_type": "execute_result"
    }
   ],
   "source": [
    "df.tail(5)"
   ]
  },
  {
   "cell_type": "code",
   "execution_count": 33,
   "id": "ed21a5b2-679a-461b-8fd8-c8c26f326dfc",
   "metadata": {},
   "outputs": [
    {
     "data": {
      "image/png": "[encoded data removed]",
      "text/plain": [
       "<Figure size 640x480 with 1 Axes>"
      ]
     },
     "metadata": {},
     "output_type": "display_data"
    }
   ],
   "source": [
    "df[['Age','Age_random']].plot(kind='kde')\n",
    "labels = ['Age','Age_random']\n",
    "plt.legend(labels)\n",
    "plt.show()"
   ]
  },
  {
   "cell_type": "code",
   "execution_count": 65,
   "id": "2b8e36bc-c3b7-461e-a13b-3f406ea50285",
   "metadata": {},
   "outputs": [],
   "source": [
    "df_temp = df[['Age_mean','Age_median','Age_random']]"
   ]
  },
  {
   "cell_type": "code",
   "execution_count": 66,
   "id": "b0decf3d-545d-41fe-b0c5-e83041397be8",
   "metadata": {},
   "outputs": [],
   "source": [
    "df.drop(columns=['Age_mean','Age_median','Age_random','Embarked'],inplace=True)"
   ]
  },
  {
   "cell_type": "code",
   "execution_count": 48,
   "id": "be2d3ae2-60a1-4874-93f0-df1332278751",
   "metadata": {},
   "outputs": [
    {
     "data": {
      "text/html": [
       "<div>\n",
       "<style scoped>\n",
       "    .dataframe tbody tr th:only-of-type {\n",
       "        vertical-align: middle;\n",
       "    }\n",
       "\n",
       "    .dataframe tbody tr th {\n",
       "        vertical-align: top;\n",
       "    }\n",
       "\n",
       "    .dataframe thead th {\n",
       "        text-align: right;\n",
       "    }\n",
       "</style>\n",
       "<table border=\"1\" class=\"dataframe\">\n",
       "  <thead>\n",
       "    <tr style=\"text-align: right;\">\n",
       "      <th></th>\n",
       "      <th>Survived</th>\n",
       "      <th>Pclass</th>\n",
       "      <th>Sex</th>\n",
       "      <th>Age</th>\n",
       "      <th>SibSp</th>\n",
       "      <th>Parch</th>\n",
       "      <th>Fare</th>\n",
       "      <th>Embarked</th>\n",
       "    </tr>\n",
       "  </thead>\n",
       "  <tbody>\n",
       "    <tr>\n",
       "      <th>0</th>\n",
       "      <td>1</td>\n",
       "      <td>1</td>\n",
       "      <td>female</td>\n",
       "      <td>35.0</td>\n",
       "      <td>0</td>\n",
       "      <td>0</td>\n",
       "      <td>512.3292</td>\n",
       "      <td>C</td>\n",
       "    </tr>\n",
       "    <tr>\n",
       "      <th>1</th>\n",
       "      <td>1</td>\n",
       "      <td>1</td>\n",
       "      <td>male</td>\n",
       "      <td>36.0</td>\n",
       "      <td>0</td>\n",
       "      <td>1</td>\n",
       "      <td>512.3292</td>\n",
       "      <td>C</td>\n",
       "    </tr>\n",
       "    <tr>\n",
       "      <th>2</th>\n",
       "      <td>1</td>\n",
       "      <td>1</td>\n",
       "      <td>male</td>\n",
       "      <td>35.0</td>\n",
       "      <td>0</td>\n",
       "      <td>0</td>\n",
       "      <td>512.3292</td>\n",
       "      <td>C</td>\n",
       "    </tr>\n",
       "    <tr>\n",
       "      <th>3</th>\n",
       "      <td>0</td>\n",
       "      <td>1</td>\n",
       "      <td>male</td>\n",
       "      <td>19.0</td>\n",
       "      <td>3</td>\n",
       "      <td>2</td>\n",
       "      <td>263.0000</td>\n",
       "      <td>S</td>\n",
       "    </tr>\n",
       "    <tr>\n",
       "      <th>4</th>\n",
       "      <td>1</td>\n",
       "      <td>1</td>\n",
       "      <td>female</td>\n",
       "      <td>23.0</td>\n",
       "      <td>3</td>\n",
       "      <td>2</td>\n",
       "      <td>263.0000</td>\n",
       "      <td>S</td>\n",
       "    </tr>\n",
       "    <tr>\n",
       "      <th>...</th>\n",
       "      <td>...</td>\n",
       "      <td>...</td>\n",
       "      <td>...</td>\n",
       "      <td>...</td>\n",
       "      <td>...</td>\n",
       "      <td>...</td>\n",
       "      <td>...</td>\n",
       "      <td>...</td>\n",
       "    </tr>\n",
       "    <tr>\n",
       "      <th>886</th>\n",
       "      <td>0</td>\n",
       "      <td>2</td>\n",
       "      <td>male</td>\n",
       "      <td>NaN</td>\n",
       "      <td>0</td>\n",
       "      <td>0</td>\n",
       "      <td>0.0000</td>\n",
       "      <td>S</td>\n",
       "    </tr>\n",
       "    <tr>\n",
       "      <th>887</th>\n",
       "      <td>0</td>\n",
       "      <td>2</td>\n",
       "      <td>male</td>\n",
       "      <td>NaN</td>\n",
       "      <td>0</td>\n",
       "      <td>0</td>\n",
       "      <td>0.0000</td>\n",
       "      <td>S</td>\n",
       "    </tr>\n",
       "    <tr>\n",
       "      <th>888</th>\n",
       "      <td>0</td>\n",
       "      <td>1</td>\n",
       "      <td>male</td>\n",
       "      <td>39.0</td>\n",
       "      <td>0</td>\n",
       "      <td>0</td>\n",
       "      <td>0.0000</td>\n",
       "      <td>S</td>\n",
       "    </tr>\n",
       "    <tr>\n",
       "      <th>889</th>\n",
       "      <td>0</td>\n",
       "      <td>1</td>\n",
       "      <td>male</td>\n",
       "      <td>NaN</td>\n",
       "      <td>0</td>\n",
       "      <td>0</td>\n",
       "      <td>0.0000</td>\n",
       "      <td>S</td>\n",
       "    </tr>\n",
       "    <tr>\n",
       "      <th>890</th>\n",
       "      <td>0</td>\n",
       "      <td>1</td>\n",
       "      <td>male</td>\n",
       "      <td>38.0</td>\n",
       "      <td>0</td>\n",
       "      <td>0</td>\n",
       "      <td>0.0000</td>\n",
       "      <td>S</td>\n",
       "    </tr>\n",
       "  </tbody>\n",
       "</table>\n",
       "<p>891 rows × 8 columns</p>\n",
       "</div>"
      ],
      "text/plain": [
       "     Survived  Pclass     Sex   Age  SibSp  Parch      Fare Embarked\n",
       "0           1       1  female  35.0      0      0  512.3292        C\n",
       "1           1       1    male  36.0      0      1  512.3292        C\n",
       "2           1       1    male  35.0      0      0  512.3292        C\n",
       "3           0       1    male  19.0      3      2  263.0000        S\n",
       "4           1       1  female  23.0      3      2  263.0000        S\n",
       "..        ...     ...     ...   ...    ...    ...       ...      ...\n",
       "886         0       2    male   NaN      0      0    0.0000        S\n",
       "887         0       2    male   NaN      0      0    0.0000        S\n",
       "888         0       1    male  39.0      0      0    0.0000        S\n",
       "889         0       1    male   NaN      0      0    0.0000        S\n",
       "890         0       1    male  38.0      0      0    0.0000        S\n",
       "\n",
       "[891 rows x 8 columns]"
      ]
     },
     "execution_count": 48,
     "metadata": {},
     "output_type": "execute_result"
    }
   ],
   "source": []
  },
  {
   "cell_type": "markdown",
   "id": "b3ab9dc3-2adf-46a7-b5c3-7480a233d76e",
   "metadata": {},
   "source": [
    "### MissingIndicator"
   ]
  },
  {
   "cell_type": "code",
   "execution_count": 67,
   "id": "96746e47-d5c3-4aff-b754-562515b08093",
   "metadata": {},
   "outputs": [],
   "source": [
    "x_train,x_test,y_train,y_test = train_test_split(df.drop(columns=['Survived']),df['Survived'],test_size=0.2,random_state=42)"
   ]
  },
  {
   "cell_type": "code",
   "execution_count": 68,
   "id": "f5affc70-02f4-4bb3-aaa5-e3428fe8ec3b",
   "metadata": {},
   "outputs": [],
   "source": [
    "mi = MissingIndicator()\n",
    "x_train_trans = mi.fit_transform(x_train)\n",
    "x_test_trans = mi.transform(x_test)"
   ]
  },
  {
   "cell_type": "code",
   "execution_count": 69,
   "id": "a604b9f9-d9a6-4e2f-b53d-a73aec906b46",
   "metadata": {},
   "outputs": [
    {
     "data": {
      "text/plain": [
       "(712, 1)"
      ]
     },
     "execution_count": 69,
     "metadata": {},
     "output_type": "execute_result"
    }
   ],
   "source": [
    "x_train_trans.shape"
   ]
  },
  {
   "cell_type": "code",
   "execution_count": 70,
   "id": "8e9dc9ba-66b1-43aa-a7ce-3f05e6139d0d",
   "metadata": {},
   "outputs": [
    {
     "data": {
      "text/plain": [
       "Pclass      0\n",
       "Sex         0\n",
       "Age       142\n",
       "SibSp       0\n",
       "Parch       0\n",
       "Fare        0\n",
       "dtype: int64"
      ]
     },
     "execution_count": 70,
     "metadata": {},
     "output_type": "execute_result"
    }
   ],
   "source": [
    "x_train.isnull().sum()"
   ]
  },
  {
   "cell_type": "code",
   "execution_count": 78,
   "id": "a7fdefe5-95fe-48b0-975d-c1026dbc98bd",
   "metadata": {},
   "outputs": [],
   "source": [
    "x_train['Age_NA'] = x_train_trans\n",
    "x_train.drop(columns=['Sex'],inplace=True)\n",
    "x_test.drop(columns=['Sex'],inplace=True)"
   ]
  },
  {
   "cell_type": "code",
   "execution_count": 79,
   "id": "ca92ac3a-9ee5-4b22-8768-4c98fed2223b",
   "metadata": {},
   "outputs": [],
   "source": [
    "x_test['Age_NA'] = x_test_trans"
   ]
  },
  {
   "cell_type": "code",
   "execution_count": 82,
   "id": "d0770840-416b-480f-a46e-1a9d6ec53a4c",
   "metadata": {},
   "outputs": [
    {
     "data": {
      "text/plain": [
       "0.7150837988826816"
      ]
     },
     "execution_count": 82,
     "metadata": {},
     "output_type": "execute_result"
    }
   ],
   "source": [
    "clf = LogisticRegression()\n",
    "si = SimpleImputer()\n",
    "x_train_trans = si.fit_transform(x_train)\n",
    "x_test_trans = si.transform(x_test)\n",
    "clf.fit(x_train_trans,y_train) #use SI to avoid error of NAN in data which model can't handle\n",
    "\n",
    "y_pred = clf.predict(x_test_trans)\n",
    "accuracy_score(y_test,y_pred) #71% as opposed to 64% previously"
   ]
  },
  {
   "cell_type": "markdown",
   "id": "38849c39-32d9-40c4-bafa-354407af6f8d",
   "metadata": {},
   "source": [
    "### using MissingIndicator within SimpleImputer "
   ]
  },
  {
   "cell_type": "code",
   "execution_count": 83,
   "id": "a006a2e4-ac27-4dd8-9102-8388cd52a924",
   "metadata": {},
   "outputs": [],
   "source": [
    "x_train,x_test,y_train,y_test = train_test_split(df.drop(columns=['Survived']),df['Survived'],test_size=0.2,random_state=42)"
   ]
  },
  {
   "cell_type": "code",
   "execution_count": 84,
   "id": "d058a9b8-211b-442c-a1ec-4eae955ce486",
   "metadata": {},
   "outputs": [],
   "source": [
    "x_train.drop(columns=['Sex'],inplace=True)\n",
    "x_test.drop(columns=['Sex'],inplace=True)"
   ]
  },
  {
   "cell_type": "code",
   "execution_count": 85,
   "id": "f22591ff-f108-4fc8-9812-66a26bb3c0f1",
   "metadata": {},
   "outputs": [
    {
     "data": {
      "text/plain": [
       "0.7150837988826816"
      ]
     },
     "execution_count": 85,
     "metadata": {},
     "output_type": "execute_result"
    }
   ],
   "source": [
    "clf = LogisticRegression()\n",
    "si = SimpleImputer(add_indicator=True)\n",
    "x_train_trans = si.fit_transform(x_train)\n",
    "x_test_trans = si.transform(x_test)\n",
    "clf.fit(x_train_trans,y_train) #use SI to avoid error of NAN in data which model can't handle\n",
    "\n",
    "y_pred = clf.predict(x_test_trans)\n",
    "accuracy_score(y_test,y_pred)"
   ]
  },
  {
   "cell_type": "code",
   "execution_count": 88,
   "id": "67871c9c-f85f-4fbe-aacd-be70859d55fe",
   "metadata": {},
   "outputs": [
    {
     "data": {
      "text/plain": [
       "array([1., 0., 1., 0., 0., 0., 0., 1., 0., 0., 0., 1., 0., 0., 1., 0., 0.,\n",
       "       0., 1., 1., 0., 0., 0., 1., 0., 0., 0., 0., 0., 0., 0., 0., 1., 0.,\n",
       "       0., 0., 0., 1., 0., 0., 0., 0., 1., 1., 0., 0., 0., 0., 0., 0., 0.,\n",
       "       0., 0., 0., 0., 0., 0., 0., 0., 0., 0., 1., 1., 0., 0., 0., 1., 1.,\n",
       "       0., 0., 0., 0., 1., 1., 0., 1., 1., 0., 0., 0., 0., 0., 0., 0., 0.,\n",
       "       0., 0., 0., 0., 0., 0., 0., 0., 0., 0., 0., 0., 0., 0., 0., 0., 0.,\n",
       "       0., 0., 0., 1., 1., 0., 0., 0., 1., 1., 0., 1., 0., 0., 0., 0., 0.,\n",
       "       0., 0., 0., 0., 0., 0., 1., 0., 1., 0., 0., 0., 0., 0., 1., 0., 1.,\n",
       "       0., 0., 0., 0., 0., 0., 0., 0., 1., 0., 0., 0., 0., 1., 1., 0., 0.,\n",
       "       1., 0., 1., 0., 0., 0., 0., 0., 0., 0., 0., 0., 0., 0., 0., 0., 0.,\n",
       "       0., 1., 0., 0., 0., 0., 0., 0., 0.])"
      ]
     },
     "execution_count": 88,
     "metadata": {},
     "output_type": "execute_result"
    }
   ],
   "source": [
    "x_test_trans[:,-1 #missing value indicator in last colummn added by simple imputer"
   ]
  },
  {
   "cell_type": "markdown",
   "id": "6596a95c-938d-4e32-a4ce-a55ae8caaffc",
   "metadata": {},
   "source": [
    "### Use multivariate imputation on Age using KNN"
   ]
  },
  {
   "cell_type": "code",
   "execution_count": 130,
   "id": "f32e6397-d4a4-4fef-b3a6-963571666452",
   "metadata": {},
   "outputs": [],
   "source": [
    "x_train,x_test,y_train,y_test = train_test_split(df.drop(columns=['Survived']),df['Survived'],test_size=0.2,random_state=42)"
   ]
  },
  {
   "cell_type": "code",
   "execution_count": 131,
   "id": "dd0d3007-53aa-4021-b8da-39abdca7b630",
   "metadata": {},
   "outputs": [],
   "source": [
    "x_train.drop(columns=['Sex'],inplace=True)\n",
    "x_test.drop(columns=['Sex'],inplace=True)"
   ]
  },
  {
   "cell_type": "markdown",
   "id": "47ccd3e6-a57b-4af0-8090-d29918d46a44",
   "metadata": {},
   "source": [
    "#### using Uniform weights"
   ]
  },
  {
   "cell_type": "code",
   "execution_count": 133,
   "id": "f04a09ef-667f-4379-af00-31f7c22c4514",
   "metadata": {},
   "outputs": [
    {
     "data": {
      "text/plain": [
       "0.7094972067039106"
      ]
     },
     "execution_count": 133,
     "metadata": {},
     "output_type": "execute_result"
    }
   ],
   "source": [
    "knn = KNNImputer(n_neighbors=5,weights='uniform') #5 nearest rows will be calculated and thier values will be weighed uniformly i.e mean value will be assigned to nan\n",
    "x_train_trans = knn.fit_transform(x_train)\n",
    "x_test_trans = knn.transform(x_test)\n",
    "\n",
    "clf = LogisticRegression()\n",
    "clf.fit(x_train_trans,y_train)\n",
    "y_pred = clf.predict(x_test_trans)\n",
    "accuracy_score(y_test,y_pred)"
   ]
  },
  {
   "cell_type": "markdown",
   "id": "bfbcd919-8441-44a6-82cd-bb8d5b408ee6",
   "metadata": {},
   "source": [
    "#### using distance weights"
   ]
  },
  {
   "cell_type": "code",
   "execution_count": 134,
   "id": "d14a1770-4c42-4000-8e45-023b26a51ef7",
   "metadata": {},
   "outputs": [
    {
     "data": {
      "text/plain": [
       "0.7150837988826816"
      ]
     },
     "execution_count": 134,
     "metadata": {},
     "output_type": "execute_result"
    }
   ],
   "source": [
    "knn1 = KNNImputer(n_neighbors=5,weights='distance') #5 nearest rows will be calculated and thier values will be weighed acc to distance\n",
    "x_train_trans1 = knn1.fit_transform(x_train)\n",
    "x_test_trans1 = knn1.transform(x_test)\n",
    "\n",
    "clf1 = LogisticRegression()\n",
    "clf1.fit(x_train_trans1,y_train)\n",
    "y_pred1 = clf1.predict(x_test_trans1)\n",
    "accuracy_score(y_test,y_pred1)"
   ]
  },
  {
   "cell_type": "markdown",
   "id": "48f682cd-5e32-4c0c-a65a-24c355d9a320",
   "metadata": {},
   "source": []
  },
  {
   "cell_type": "markdown",
   "id": "8b9a6446-53c9-4e88-a15e-b5bedb977eeb",
   "metadata": {},
   "source": [
    "### use gridsearchcv"
   ]
  },
  {
   "cell_type": "code",
   "execution_count": 90,
   "id": "9673cabe-6290-4797-bee9-109c22826b3d",
   "metadata": {},
   "outputs": [],
   "source": [
    "x_train,x_test,y_train,y_test = train_test_split(df.drop(columns=['Survived']),df['Survived'],test_size=0.2,random_state=42)"
   ]
  },
  {
   "cell_type": "code",
   "execution_count": 112,
   "id": "523ba616-1793-4729-a533-402bda9bab8b",
   "metadata": {},
   "outputs": [
    {
     "name": "stderr",
     "output_type": "stream",
     "text": [
      "C:\\Users\\arsal\\anaconda3\\lib\\site-packages\\sklearn\\linear_model\\_logistic.py:814: ConvergenceWarning: lbfgs failed to converge (status=1):\n",
      "STOP: TOTAL NO. of ITERATIONS REACHED LIMIT.\n",
      "\n",
      "Increase the number of iterations (max_iter) or scale the data as shown in:\n",
      "    https://scikit-learn.org/stable/modules/preprocessing.html\n",
      "Please also refer to the documentation for alternative solver options:\n",
      "    https://scikit-learn.org/stable/modules/linear_model.html#logistic-regression\n",
      "  n_iter_i = _check_optimize_result(\n"
     ]
    },
    {
     "data": {
      "text/plain": [
       "0.8379888268156425"
      ]
     },
     "execution_count": 112,
     "metadata": {},
     "output_type": "execute_result"
    }
   ],
   "source": [
    "x_train\n",
    "trf = ColumnTransformer(transformers=[('si',SimpleImputer(strategy='mean'),['Age']),\n",
    "                                     ('ohe',OneHotEncoder(dtype=np.int32),['Sex']),],\n",
    "                       remainder='passthrough')\n",
    "\n",
    "pipe = Pipeline([('trans',trf),\n",
    "                ('clf',LogisticRegression())])\n",
    "\n",
    "pipe.fit(x_train,y_train)\n",
    "y_pred = pipe.predict(x_test)#clf.predict(x_test_trans)\n",
    "accuracy_score(y_test,y_pred)"
   ]
  },
  {
   "cell_type": "code",
   "execution_count": null,
   "id": "460e19f6-6fb0-4749-91d0-d9931260f606",
   "metadata": {},
   "outputs": [],
   "source": [
    "param_grid = { 'trans__si__strategy':['mean','median'],\n",
    "            'clf__C': [0.1,1.0,10,100] }\n",
    "\n",
    "grid_search = GridSearchCV(pipe,param_grid,cv=10)\n",
    "grid_search.fit(x_train,y_train)\n",
    "grid_search.best_params_"
   ]
  },
  {
   "cell_type": "code",
   "execution_count": 124,
   "id": "5ebb48af-d806-4381-96a2-1edfbc853302",
   "metadata": {},
   "outputs": [
    {
     "data": {
      "text/plain": [
       "0.7865805946791862"
      ]
     },
     "execution_count": 124,
     "metadata": {},
     "output_type": "execute_result"
    }
   ],
   "source": [
    "grid_search.best_score_"
   ]
  },
  {
   "cell_type": "code",
   "execution_count": 116,
   "id": "ba1bec6d-887c-46cd-8087-f083b11a07bf",
   "metadata": {},
   "outputs": [
    {
     "data": {
      "text/plain": [
       "dict_keys(['C', 'class_weight', 'dual', 'fit_intercept', 'intercept_scaling', 'l1_ratio', 'max_iter', 'multi_class', 'n_jobs', 'penalty', 'random_state', 'solver', 'tol', 'verbose', 'warm_start'])"
      ]
     },
     "execution_count": 116,
     "metadata": {},
     "output_type": "execute_result"
    }
   ],
   "source": [
    "clf.get_params().keys()"
   ]
  },
  {
   "cell_type": "code",
   "execution_count": 127,
   "id": "70ca59ab-6e96-4510-8df4-aa40bc80a81f",
   "metadata": {},
   "outputs": [],
   "source": [
    "res = pd.DataFrame(grid_search.cv_results_)"
   ]
  },
  {
   "cell_type": "markdown",
   "id": "9950be00-1052-4908-be4f-cc584d501d55",
   "metadata": {},
   "source": [
    "### Using Iterative imputer MICE - multivariate imputer by chained equations"
   ]
  },
  {
   "cell_type": "code",
   "execution_count": 143,
   "id": "7e47962e-e38a-4b6a-b168-a4256472c6dd",
   "metadata": {},
   "outputs": [],
   "source": [
    "#from sklearn.experimental import enable_iterative_imputer\n",
    "#from sklearn.impute import IterativeImputer\n",
    "x_train = np.array([[1,2],[np.nan,4],[3,6],[4,np.nan]])\n",
    "x_test = np.array([[np.nan,2],[5,np.nan],[np.nan,16],[10,np.nan]])"
   ]
  },
  {
   "cell_type": "code",
   "execution_count": 144,
   "id": "10c43fb5-db3a-4e92-91fa-f219ddfb254f",
   "metadata": {},
   "outputs": [
    {
     "data": {
      "text/plain": [
       "array([[ 1.,  2.],\n",
       "       [ 5., 10.],\n",
       "       [ 8., 16.],\n",
       "       [10., 20.]])"
      ]
     },
     "execution_count": 144,
     "metadata": {},
     "output_type": "execute_result"
    }
   ],
   "source": [
    "imp = IterativeImputer(max_iter=10,random_state=42)\n",
    "x_train_trans = imp.fit_transform(x_train)\n",
    "x_test_trans = imp.transform(x_test)\n",
    "np.round(x_test_trans,1)"
   ]
  },
  {
   "cell_type": "code",
   "execution_count": 145,
   "id": "bec66942-7975-42e4-a029-34cf1ac7ed8b",
   "metadata": {},
   "outputs": [
    {
     "data": {
      "text/plain": [
       "array([[1., 2.],\n",
       "       [2., 4.],\n",
       "       [3., 6.],\n",
       "       [4., 8.]])"
      ]
     },
     "execution_count": 145,
     "metadata": {},
     "output_type": "execute_result"
    }
   ],
   "source": [
    "np.round(x_train_trans,1)"
   ]
  },
  {
   "cell_type": "code",
   "execution_count": null,
   "id": "bc9cb917-c1b7-47db-931a-37cc9af53e9b",
   "metadata": {},
   "outputs": [],
   "source": []
  }
 ],
 "metadata": {
  "kernelspec": {
   "display_name": "Python 3 (ipykernel)",
   "language": "python",
   "name": "python3"
  },
  "language_info": {
   "codemirror_mode": {
    "name": "ipython",
    "version": 3
   },
   "file_extension": ".py",
   "mimetype": "text/x-python",
   "name": "python",
   "nbconvert_exporter": "python",
   "pygments_lexer": "ipython3",
   "version": "3.9.13"
  }
 },
 "nbformat": 4,
 "nbformat_minor": 5
}
